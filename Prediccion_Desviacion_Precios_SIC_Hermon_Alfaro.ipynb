{
 "cells": [
  {
   "cell_type": "markdown",
   "metadata": {},
   "source": [
    "# Predicción de aprobación de préstamo para compra de vivienda\n",
    "\n",
    "Desafío Spike Septiembre 2020 - Predicción de desviación de precios en el sistema eléctrico chileno\n",
    "\n",
    "Más información del desafío $\\href{https://github.com/SpikeLab-CL/desafio_spike_energia_public}{Desafío\\:Spike}$."
   ]
  },
  {
   "cell_type": "markdown",
   "metadata": {},
   "source": [
    "#### Imports"
   ]
  },
  {
   "cell_type": "code",
   "execution_count": 1,
   "metadata": {},
   "outputs": [],
   "source": [
    "# imports\n",
    "\n",
    "# interns\n",
    "import datetime\n",
    "import gc\n",
    "\n",
    "# extern\n",
    "import numpy as np\n",
    "import pandas as pd\n",
    "import tqdm\n",
    "\n",
    "from sklearn.preprocessing import OrdinalEncoder, RobustScaler\n",
    "from sklearn.model_selection import GridSearchCV\n",
    "from xgboost import XGBClassifier\n",
    "\n",
    "import matplotlib.pyplot as plt\n",
    "import seaborn as sns\n",
    "\n",
    "# custom\n",
    "from eda import *\n",
    "from classifier import  *\n",
    "from utils import *\n",
    "\n",
    "RANDOM_STATE = 123"
   ]
  },
  {
   "cell_type": "markdown",
   "metadata": {},
   "source": [
    "## Parte 1 - Costos marginales\n",
    "\n"
   ]
  },
  {
   "cell_type": "code",
   "execution_count": 57,
   "metadata": {},
   "outputs": [
    {
     "name": "stdout",
     "output_type": "stream",
     "text": [
      "costo marginal real conformado por 4309951 filas y 7 columnas\n",
      "costo marginal programado conformado por 1192124 filas y 5 columnas\n"
     ]
    }
   ],
   "source": [
    "# Costo marginal real\n",
    "cmr_df = pd.read_csv(\"costo_marginal_real.csv\")\n",
    "print(f\"costo marginal real conformado por {cmr_df.shape[0]} filas y {cmr_df.shape[1]} columnas\")\n",
    "\n",
    "# Costo marginal programado\n",
    "cmp_df = pd.read_csv(\"costo_marginal_programado.csv\")\n",
    "print(f\"costo marginal programado conformado por {cmp_df.shape[0]} filas y {cmp_df.shape[1]} columnas\")"
   ]
  },
  {
   "cell_type": "markdown",
   "metadata": {},
   "source": [
    "### Costos marginales reales - Primeras 5 filas"
   ]
  },
  {
   "cell_type": "code",
   "execution_count": 3,
   "metadata": {},
   "outputs": [
    {
     "data": {
      "text/html": [
       "<div>\n",
       "<style scoped>\n",
       "    .dataframe tbody tr th:only-of-type {\n",
       "        vertical-align: middle;\n",
       "    }\n",
       "\n",
       "    .dataframe tbody tr th {\n",
       "        vertical-align: top;\n",
       "    }\n",
       "\n",
       "    .dataframe thead th {\n",
       "        text-align: right;\n",
       "    }\n",
       "</style>\n",
       "<table border=\"1\" class=\"dataframe\">\n",
       "  <thead>\n",
       "    <tr style=\"text-align: right;\">\n",
       "      <th></th>\n",
       "      <th>barra_mnemotecnico</th>\n",
       "      <th>barra_referencia_mnemotecnico</th>\n",
       "      <th>fecha</th>\n",
       "      <th>hora</th>\n",
       "      <th>costo_en_dolares</th>\n",
       "      <th>costo_en_pesos</th>\n",
       "      <th>nombre</th>\n",
       "    </tr>\n",
       "  </thead>\n",
       "  <tbody>\n",
       "    <tr>\n",
       "      <th>0</th>\n",
       "      <td>BA01T005SE075T005</td>\n",
       "      <td>BA02T002SE032T002</td>\n",
       "      <td>2019-04-06</td>\n",
       "      <td>25</td>\n",
       "      <td>62.24</td>\n",
       "      <td>41.47176</td>\n",
       "      <td>BA S/E LORETO 15KV</td>\n",
       "    </tr>\n",
       "    <tr>\n",
       "      <th>1</th>\n",
       "      <td>BA01T005SE175T005</td>\n",
       "      <td>BA02T002SE032T002</td>\n",
       "      <td>2019-04-06</td>\n",
       "      <td>25</td>\n",
       "      <td>62.56</td>\n",
       "      <td>41.68498</td>\n",
       "      <td>BA S/E RETIRO 13.2KV</td>\n",
       "    </tr>\n",
       "    <tr>\n",
       "      <th>2</th>\n",
       "      <td>BA03R002SE002R002</td>\n",
       "      <td>BA02T002SE032T002</td>\n",
       "      <td>2019-04-06</td>\n",
       "      <td>25</td>\n",
       "      <td>60.04</td>\n",
       "      <td>40.00585</td>\n",
       "      <td>BA S/E ALTAMIRANO 12.5KV BP1</td>\n",
       "    </tr>\n",
       "    <tr>\n",
       "      <th>3</th>\n",
       "      <td>BA01R002SE012R002</td>\n",
       "      <td>BA02T002SE032T002</td>\n",
       "      <td>2019-04-06</td>\n",
       "      <td>25</td>\n",
       "      <td>61.65</td>\n",
       "      <td>41.07863</td>\n",
       "      <td>BA S/E CURACAVI 44KV B1</td>\n",
       "    </tr>\n",
       "    <tr>\n",
       "      <th>4</th>\n",
       "      <td>BA03R002SE013R002</td>\n",
       "      <td>BA02T002SE032T002</td>\n",
       "      <td>2019-04-06</td>\n",
       "      <td>25</td>\n",
       "      <td>59.55</td>\n",
       "      <td>39.67936</td>\n",
       "      <td>BA S/E EL MANZANO (ENEL DISTRIBUCIÓN) 23KV BP1</td>\n",
       "    </tr>\n",
       "  </tbody>\n",
       "</table>\n",
       "</div>"
      ],
      "text/plain": [
       "  barra_mnemotecnico barra_referencia_mnemotecnico       fecha  hora  \\\n",
       "0  BA01T005SE075T005             BA02T002SE032T002  2019-04-06    25   \n",
       "1  BA01T005SE175T005             BA02T002SE032T002  2019-04-06    25   \n",
       "2  BA03R002SE002R002             BA02T002SE032T002  2019-04-06    25   \n",
       "3  BA01R002SE012R002             BA02T002SE032T002  2019-04-06    25   \n",
       "4  BA03R002SE013R002             BA02T002SE032T002  2019-04-06    25   \n",
       "\n",
       "   costo_en_dolares  costo_en_pesos  \\\n",
       "0             62.24        41.47176   \n",
       "1             62.56        41.68498   \n",
       "2             60.04        40.00585   \n",
       "3             61.65        41.07863   \n",
       "4             59.55        39.67936   \n",
       "\n",
       "                                           nombre  \n",
       "0                              BA S/E LORETO 15KV  \n",
       "1                            BA S/E RETIRO 13.2KV  \n",
       "2                    BA S/E ALTAMIRANO 12.5KV BP1  \n",
       "3                         BA S/E CURACAVI 44KV B1  \n",
       "4  BA S/E EL MANZANO (ENEL DISTRIBUCIÓN) 23KV BP1  "
      ]
     },
     "execution_count": 3,
     "metadata": {},
     "output_type": "execute_result"
    }
   ],
   "source": [
    "cmr_df.head(5)"
   ]
  },
  {
   "cell_type": "markdown",
   "metadata": {},
   "source": [
    "### Costos marginales reales - Primeras 5 filas"
   ]
  },
  {
   "cell_type": "code",
   "execution_count": 4,
   "metadata": {},
   "outputs": [
    {
     "data": {
      "text/html": [
       "<div>\n",
       "<style scoped>\n",
       "    .dataframe tbody tr th:only-of-type {\n",
       "        vertical-align: middle;\n",
       "    }\n",
       "\n",
       "    .dataframe tbody tr th {\n",
       "        vertical-align: top;\n",
       "    }\n",
       "\n",
       "    .dataframe thead th {\n",
       "        text-align: right;\n",
       "    }\n",
       "</style>\n",
       "<table border=\"1\" class=\"dataframe\">\n",
       "  <thead>\n",
       "    <tr style=\"text-align: right;\">\n",
       "      <th></th>\n",
       "      <th>mnemotecnico_barra</th>\n",
       "      <th>nombre_barra</th>\n",
       "      <th>fecha</th>\n",
       "      <th>hora</th>\n",
       "      <th>costo</th>\n",
       "    </tr>\n",
       "  </thead>\n",
       "  <tbody>\n",
       "    <tr>\n",
       "      <th>0</th>\n",
       "      <td>BA01T002SE002T002</td>\n",
       "      <td>BA S/E ALTO JAHUEL 110KV SECCION 1</td>\n",
       "      <td>2019-01-01</td>\n",
       "      <td>1</td>\n",
       "      <td>49.897334</td>\n",
       "    </tr>\n",
       "    <tr>\n",
       "      <th>1</th>\n",
       "      <td>BA01T002SE002T002</td>\n",
       "      <td>BA S/E ALTO JAHUEL 110KV SECCION 1</td>\n",
       "      <td>2019-01-01</td>\n",
       "      <td>2</td>\n",
       "      <td>50.471616</td>\n",
       "    </tr>\n",
       "    <tr>\n",
       "      <th>2</th>\n",
       "      <td>BA01T002SE002T002</td>\n",
       "      <td>BA S/E ALTO JAHUEL 110KV SECCION 1</td>\n",
       "      <td>2019-01-01</td>\n",
       "      <td>3</td>\n",
       "      <td>50.077821</td>\n",
       "    </tr>\n",
       "    <tr>\n",
       "      <th>3</th>\n",
       "      <td>BA01T002SE002T002</td>\n",
       "      <td>BA S/E ALTO JAHUEL 110KV SECCION 1</td>\n",
       "      <td>2019-01-01</td>\n",
       "      <td>4</td>\n",
       "      <td>49.796216</td>\n",
       "    </tr>\n",
       "    <tr>\n",
       "      <th>4</th>\n",
       "      <td>BA01T002SE002T002</td>\n",
       "      <td>BA S/E ALTO JAHUEL 110KV SECCION 1</td>\n",
       "      <td>2019-01-01</td>\n",
       "      <td>5</td>\n",
       "      <td>49.796216</td>\n",
       "    </tr>\n",
       "  </tbody>\n",
       "</table>\n",
       "</div>"
      ],
      "text/plain": [
       "  mnemotecnico_barra                        nombre_barra       fecha  hora  \\\n",
       "0  BA01T002SE002T002  BA S/E ALTO JAHUEL 110KV SECCION 1  2019-01-01     1   \n",
       "1  BA01T002SE002T002  BA S/E ALTO JAHUEL 110KV SECCION 1  2019-01-01     2   \n",
       "2  BA01T002SE002T002  BA S/E ALTO JAHUEL 110KV SECCION 1  2019-01-01     3   \n",
       "3  BA01T002SE002T002  BA S/E ALTO JAHUEL 110KV SECCION 1  2019-01-01     4   \n",
       "4  BA01T002SE002T002  BA S/E ALTO JAHUEL 110KV SECCION 1  2019-01-01     5   \n",
       "\n",
       "       costo  \n",
       "0  49.897334  \n",
       "1  50.471616  \n",
       "2  50.077821  \n",
       "3  49.796216  \n",
       "4  49.796216  "
      ]
     },
     "execution_count": 4,
     "metadata": {},
     "output_type": "execute_result"
    }
   ],
   "source": [
    "cmp_df.head(5)"
   ]
  },
  {
   "cell_type": "markdown",
   "metadata": {},
   "source": [
    "### Valores duplicados - Verificación"
   ]
  },
  {
   "cell_type": "code",
   "execution_count": 5,
   "metadata": {},
   "outputs": [
    {
     "name": "stdout",
     "output_type": "stream",
     "text": [
      "hay 0 filas duplicadas en los costos marginales reales\n",
      "hay 4283 filas duplicadas en los costos marginales programados\n"
     ]
    }
   ],
   "source": [
    "print(f\"hay {cmr_df.shape[0] - cmr_df.drop_duplicates().shape[0]} filas duplicadas en los costos marginales reales\")\n",
    "print(f\"hay {cmp_df.shape[0] - cmp_df.drop_duplicates().shape[0]} filas duplicadas en los costos marginales programados\")"
   ]
  },
  {
   "cell_type": "markdown",
   "metadata": {},
   "source": [
    "### Valores duplicados - Eliminar\n",
    "\n",
    "Se eliminan las filas duplicadas porque no aportan datos adicionales"
   ]
  },
  {
   "cell_type": "code",
   "execution_count": 58,
   "metadata": {},
   "outputs": [],
   "source": [
    "# suprimimos las filas duplicadas en los costos programados\n",
    "cmp_df = cmp_df.drop_duplicates()"
   ]
  },
  {
   "cell_type": "markdown",
   "metadata": {},
   "source": [
    "### Valores duplicados - misma barra-fecha-hora con distintos costos\n",
    "\n",
    "Se verifica si hay más de un costo marginal programado para la misma barra a la misma fecha y hora del día"
   ]
  },
  {
   "cell_type": "code",
   "execution_count": 7,
   "metadata": {},
   "outputs": [
    {
     "name": "stdout",
     "output_type": "stream",
     "text": [
      "hay 0 barras con más de un costo real por fecha y hora\n",
      "hay 183946 barras con más de un costo programado por fecha y hora\n"
     ]
    }
   ],
   "source": [
    "print(f\"hay {cmr_df.drop(['costo_en_dolares', 'costo_en_pesos'], axis=1).shape[0] - cmr_df.drop(['costo_en_dolares', 'costo_en_pesos'], axis=1).drop_duplicates().shape[0]} barras con más de un costo real por fecha y hora\")\n",
    "print(f\"hay {cmp_df.drop(['costo'], axis=1).shape[0] - cmp_df.drop(['costo'], axis=1).drop_duplicates().shape[0]} barras con más de un costo programado por fecha y hora\")"
   ]
  },
  {
   "cell_type": "markdown",
   "metadata": {},
   "source": [
    "### Valores duplicados - Conversar el último\n",
    "\n",
    "Basado en una regla simple, nos quedamos con el último costo programado cuando hay más de uno para la misma barra, fecha, y hora"
   ]
  },
  {
   "cell_type": "code",
   "execution_count": 59,
   "metadata": {},
   "outputs": [
    {
     "data": {
      "text/plain": [
       "(944243, 5)"
      ]
     },
     "execution_count": 59,
     "metadata": {},
     "output_type": "execute_result"
    }
   ],
   "source": [
    "# index de las filas a conservar\n",
    "idx = cmp_df[\"costo\"].drop_duplicates(keep=\"last\").index\n",
    "cmp_df = cmp_df[cmp_df.index.isin(idx)]\n",
    "cmp_df.shape"
   ]
  },
  {
   "cell_type": "markdown",
   "metadata": {},
   "source": [
    "### barras no identificadas $\\rightarrow$ nombre mnemotecnico '-'"
   ]
  },
  {
   "cell_type": "code",
   "execution_count": 9,
   "metadata": {},
   "outputs": [
    {
     "name": "stdout",
     "output_type": "stream",
     "text": [
      "Hay 0 barras no identificadas en los costos marginales reales\n",
      "Hay 147852 barras no identificadas en los costos marginales programados\n"
     ]
    }
   ],
   "source": [
    "print(f\"Hay {cmr_df[cmr_df['barra_mnemotecnico']=='-'].shape[0]} barras no identificadas en los costos marginales reales\")\n",
    "print(f\"Hay {cmp_df[cmp_df['mnemotecnico_barra']=='-'].shape[0]} barras no identificadas en los costos marginales programados\")"
   ]
  },
  {
   "cell_type": "markdown",
   "metadata": {},
   "source": [
    "Hay barras no idenficadas. Dado que no podemos saber si los datos corresponden a una sola barra o varias, ni podemos saber cúal fila correspondería a cúal barra, borramos dichas filas"
   ]
  },
  {
   "cell_type": "code",
   "execution_count": 60,
   "metadata": {},
   "outputs": [
    {
     "data": {
      "text/plain": [
       "(796391, 5)"
      ]
     },
     "execution_count": 60,
     "metadata": {},
     "output_type": "execute_result"
    }
   ],
   "source": [
    "# suprimimos filas sin barra identificada\n",
    "cmp_df = cmp_df[cmp_df['mnemotecnico_barra']!='-']\n",
    "cmp_df.shape"
   ]
  },
  {
   "cell_type": "markdown",
   "metadata": {},
   "source": [
    "### Número total de barras en la base\n",
    "\n",
    "Calculando el número total de barras paras que hay dados de los costos reales, de los costos programados, y el porcentaje de barras en la base para las que hay registros de costos programados y costos reales."
   ]
  },
  {
   "cell_type": "code",
   "execution_count": 61,
   "metadata": {},
   "outputs": [
    {
     "name": "stdout",
     "output_type": "stream",
     "text": [
      "Número total de barras en la base: 1038\n",
      "Número de barras programadas: 232\n",
      "Porcentaje de barras en la base que tienen un costo programado: 22.0 %\n"
     ]
    }
   ],
   "source": [
    "# barras en costo_marginal_real\n",
    "barras_real = set(cmr_df[\"barra_mnemotecnico\"].unique())\n",
    "\n",
    "# barras en costo marginal programado\n",
    "barras_prog = set(cmp_df[\"mnemotecnico_barra\"].unique())\n",
    "\n",
    "# barras en la base\n",
    "\n",
    "barras = barras_real.union(barras_prog)\n",
    "\n",
    "print(f\"Número total de barras en la base: {len(barras)}\")\n",
    "print(f\"Número de barras programadas: {len(barras_prog)}\")\n",
    "print(f\"Porcentaje de barras en la base que tienen un costo programado: {100 * round(len(barras_prog) / len(barras), 2)} %\")\n",
    "                "
   ]
  },
  {
   "cell_type": "markdown",
   "metadata": {},
   "source": [
    "## Barras de referencia\n",
    "\n",
    "Solo hay una barra de referencia"
   ]
  },
  {
   "cell_type": "code",
   "execution_count": 62,
   "metadata": {},
   "outputs": [
    {
     "data": {
      "text/plain": [
       "array(['BA02T002SE032T002'], dtype=object)"
      ]
     },
     "execution_count": 62,
     "metadata": {},
     "output_type": "execute_result"
    }
   ],
   "source": [
    "# única barra de referencia\n",
    "cmr_df[\"barra_referencia_mnemotecnico\"].unique()"
   ]
  },
  {
   "cell_type": "markdown",
   "metadata": {},
   "source": [
    "### Merging\n",
    "\n",
    "Combinando los dos datasets en uno solo, la tabla de costos marginales\n",
    "\n",
    "El merge se hace a partir del nombre mnemotecnico de la barra, la fecha, y la hora del día. Se asume que la columna 'costo' de los costos marginales programados se encuentra en dólares. El merge es 'outer' para mantener todas las barras de ambos datasets.\n",
    "\n",
    "Así, si barras que solo registran costos marginales, el costo programado sera NaN, y viceversa."
   ]
  },
  {
   "cell_type": "code",
   "execution_count": 63,
   "metadata": {},
   "outputs": [
    {
     "name": "stdout",
     "output_type": "stream",
     "text": [
      "Wall time: 24.7 s\n"
     ]
    },
    {
     "data": {
      "text/html": [
       "<div>\n",
       "<style scoped>\n",
       "    .dataframe tbody tr th:only-of-type {\n",
       "        vertical-align: middle;\n",
       "    }\n",
       "\n",
       "    .dataframe tbody tr th {\n",
       "        vertical-align: top;\n",
       "    }\n",
       "\n",
       "    .dataframe thead th {\n",
       "        text-align: right;\n",
       "    }\n",
       "</style>\n",
       "<table border=\"1\" class=\"dataframe\">\n",
       "  <thead>\n",
       "    <tr style=\"text-align: right;\">\n",
       "      <th></th>\n",
       "      <th>barra</th>\n",
       "      <th>fecha</th>\n",
       "      <th>hora</th>\n",
       "      <th>cmg_real</th>\n",
       "      <th>cmg_real_pesos</th>\n",
       "      <th>cmg_prog</th>\n",
       "    </tr>\n",
       "  </thead>\n",
       "  <tbody>\n",
       "    <tr>\n",
       "      <th>0</th>\n",
       "      <td>BA01G004SE001T011</td>\n",
       "      <td>2019-01-01</td>\n",
       "      <td>1</td>\n",
       "      <td>50.41</td>\n",
       "      <td>35.06973</td>\n",
       "      <td>50.116286</td>\n",
       "    </tr>\n",
       "    <tr>\n",
       "      <th>1</th>\n",
       "      <td>BA01G004SE001T011</td>\n",
       "      <td>2019-01-01</td>\n",
       "      <td>2</td>\n",
       "      <td>50.41</td>\n",
       "      <td>35.06973</td>\n",
       "      <td>50.522836</td>\n",
       "    </tr>\n",
       "    <tr>\n",
       "      <th>2</th>\n",
       "      <td>BA01G004SE001T011</td>\n",
       "      <td>2019-01-01</td>\n",
       "      <td>3</td>\n",
       "      <td>49.40</td>\n",
       "      <td>34.36709</td>\n",
       "      <td>50.119505</td>\n",
       "    </tr>\n",
       "    <tr>\n",
       "      <th>3</th>\n",
       "      <td>BA01G004SE001T011</td>\n",
       "      <td>2019-01-01</td>\n",
       "      <td>4</td>\n",
       "      <td>48.56</td>\n",
       "      <td>33.78271</td>\n",
       "      <td>NaN</td>\n",
       "    </tr>\n",
       "    <tr>\n",
       "      <th>4</th>\n",
       "      <td>BA01G004SE001T011</td>\n",
       "      <td>2019-01-01</td>\n",
       "      <td>5</td>\n",
       "      <td>46.51</td>\n",
       "      <td>32.35654</td>\n",
       "      <td>49.854087</td>\n",
       "    </tr>\n",
       "    <tr>\n",
       "      <th>...</th>\n",
       "      <td>...</td>\n",
       "      <td>...</td>\n",
       "      <td>...</td>\n",
       "      <td>...</td>\n",
       "      <td>...</td>\n",
       "      <td>...</td>\n",
       "    </tr>\n",
       "    <tr>\n",
       "      <th>4396799</th>\n",
       "      <td>BA99L117SE054L117</td>\n",
       "      <td>2019-06-30</td>\n",
       "      <td>20</td>\n",
       "      <td>47.79</td>\n",
       "      <td>32.49051</td>\n",
       "      <td>46.800602</td>\n",
       "    </tr>\n",
       "    <tr>\n",
       "      <th>4396800</th>\n",
       "      <td>BA99L117SE054L117</td>\n",
       "      <td>2019-06-30</td>\n",
       "      <td>21</td>\n",
       "      <td>47.79</td>\n",
       "      <td>32.49051</td>\n",
       "      <td>48.607941</td>\n",
       "    </tr>\n",
       "    <tr>\n",
       "      <th>4396801</th>\n",
       "      <td>BA99L117SE054L117</td>\n",
       "      <td>2019-06-30</td>\n",
       "      <td>22</td>\n",
       "      <td>47.79</td>\n",
       "      <td>32.49051</td>\n",
       "      <td>48.537587</td>\n",
       "    </tr>\n",
       "    <tr>\n",
       "      <th>4396802</th>\n",
       "      <td>BA99L117SE054L117</td>\n",
       "      <td>2019-06-30</td>\n",
       "      <td>23</td>\n",
       "      <td>47.79</td>\n",
       "      <td>32.49051</td>\n",
       "      <td>47.783023</td>\n",
       "    </tr>\n",
       "    <tr>\n",
       "      <th>4396803</th>\n",
       "      <td>BA99L117SE054L117</td>\n",
       "      <td>2019-06-30</td>\n",
       "      <td>24</td>\n",
       "      <td>47.79</td>\n",
       "      <td>32.49051</td>\n",
       "      <td>43.563139</td>\n",
       "    </tr>\n",
       "  </tbody>\n",
       "</table>\n",
       "<p>4396804 rows × 6 columns</p>\n",
       "</div>"
      ],
      "text/plain": [
       "                     barra       fecha  hora  cmg_real  cmg_real_pesos  \\\n",
       "0        BA01G004SE001T011  2019-01-01     1     50.41        35.06973   \n",
       "1        BA01G004SE001T011  2019-01-01     2     50.41        35.06973   \n",
       "2        BA01G004SE001T011  2019-01-01     3     49.40        34.36709   \n",
       "3        BA01G004SE001T011  2019-01-01     4     48.56        33.78271   \n",
       "4        BA01G004SE001T011  2019-01-01     5     46.51        32.35654   \n",
       "...                    ...         ...   ...       ...             ...   \n",
       "4396799  BA99L117SE054L117  2019-06-30    20     47.79        32.49051   \n",
       "4396800  BA99L117SE054L117  2019-06-30    21     47.79        32.49051   \n",
       "4396801  BA99L117SE054L117  2019-06-30    22     47.79        32.49051   \n",
       "4396802  BA99L117SE054L117  2019-06-30    23     47.79        32.49051   \n",
       "4396803  BA99L117SE054L117  2019-06-30    24     47.79        32.49051   \n",
       "\n",
       "          cmg_prog  \n",
       "0        50.116286  \n",
       "1        50.522836  \n",
       "2        50.119505  \n",
       "3              NaN  \n",
       "4        49.854087  \n",
       "...            ...  \n",
       "4396799  46.800602  \n",
       "4396800  48.607941  \n",
       "4396801  48.537587  \n",
       "4396802  47.783023  \n",
       "4396803  43.563139  \n",
       "\n",
       "[4396804 rows x 6 columns]"
      ]
     },
     "execution_count": 63,
     "metadata": {},
     "output_type": "execute_result"
    }
   ],
   "source": [
    "%%time\n",
    "cm_df = pd.merge(cmr_df[[\"barra_mnemotecnico\", \"fecha\", \"hora\", \"costo_en_dolares\",\"costo_en_pesos\"]],\n",
    "             cmp_df[[\"mnemotecnico_barra\",\"fecha\", \"hora\", \"costo\"]], how=\"outer\",\n",
    "                           left_on = ['barra_mnemotecnico', 'fecha', 'hora' ], \n",
    "                           right_on = ['mnemotecnico_barra', 'fecha', 'hora'], suffixes=('', ''), sort=True)\n",
    "\n",
    "cm_df = cm_df.drop(\"mnemotecnico_barra\", axis=1).reset_index(drop=True)\n",
    "cm_df.columns = [\"barra\", \"fecha\", \"hora\", \"cmg_real\",\"cmg_real_pesos\", \"cmg_prog\"]\n",
    "cm_df.to_csv(\"costo_marginal.csv\", index=None)\n",
    "cm_df"
   ]
  },
  {
   "cell_type": "markdown",
   "metadata": {},
   "source": [
    "### Valores nulos por columna\n",
    "\n",
    "Porcentaje de valores nulos por columna"
   ]
  },
  {
   "cell_type": "code",
   "execution_count": 19,
   "metadata": {},
   "outputs": [
    {
     "name": "stdout",
     "output_type": "stream",
     "text": [
      "Hay 6 columnas.\n",
      "Hay 4 columns with missing values\n"
     ]
    },
    {
     "data": {
      "text/html": [
       "<div>\n",
       "<style scoped>\n",
       "    .dataframe tbody tr th:only-of-type {\n",
       "        vertical-align: middle;\n",
       "    }\n",
       "\n",
       "    .dataframe tbody tr th {\n",
       "        vertical-align: top;\n",
       "    }\n",
       "\n",
       "    .dataframe thead th {\n",
       "        text-align: right;\n",
       "    }\n",
       "</style>\n",
       "<table border=\"1\" class=\"dataframe\">\n",
       "  <thead>\n",
       "    <tr style=\"text-align: right;\">\n",
       "      <th></th>\n",
       "      <th>Missing Values</th>\n",
       "      <th>% of Total Values</th>\n",
       "    </tr>\n",
       "  </thead>\n",
       "  <tbody>\n",
       "    <tr>\n",
       "      <th>cmg_prog</th>\n",
       "      <td>3600413</td>\n",
       "      <td>81.9</td>\n",
       "    </tr>\n",
       "    <tr>\n",
       "      <th>barra</th>\n",
       "      <td>77497</td>\n",
       "      <td>1.8</td>\n",
       "    </tr>\n",
       "    <tr>\n",
       "      <th>cmg_real</th>\n",
       "      <td>77497</td>\n",
       "      <td>1.8</td>\n",
       "    </tr>\n",
       "    <tr>\n",
       "      <th>cmg_real_pesos</th>\n",
       "      <td>77497</td>\n",
       "      <td>1.8</td>\n",
       "    </tr>\n",
       "  </tbody>\n",
       "</table>\n",
       "</div>"
      ],
      "text/plain": [
       "                Missing Values  % of Total Values\n",
       "cmg_prog               3600413               81.9\n",
       "barra                    77497                1.8\n",
       "cmg_real                 77497                1.8\n",
       "cmg_real_pesos           77497                1.8"
      ]
     },
     "execution_count": 19,
     "metadata": {},
     "output_type": "execute_result"
    }
   ],
   "source": [
    "missing_values_table(cm_df)"
   ]
  },
  {
   "cell_type": "markdown",
   "metadata": {},
   "source": [
    "### Histograma de los costos marginales\n"
   ]
  },
  {
   "cell_type": "code",
   "execution_count": 24,
   "metadata": {},
   "outputs": [
    {
     "data": {
      "image/png": "[encoded data removed]",
      "text/plain": [
       "<Figure size 432x288 with 2 Axes>"
      ]
     },
     "metadata": {
      "needs_background": "light"
     },
     "output_type": "display_data"
    }
   ],
   "source": [
    "cm_df[[\"cmg_real\", \"cmg_prog\"]].hist()\n",
    "plt.tight_layout()\n",
    "plt.show()"
   ]
  },
  {
   "cell_type": "markdown",
   "metadata": {},
   "source": [
    "Los costos marginales programados tienden a ser más bajos que los costos marginales reales. \n",
    "Las distribuciones tienen una cola a la derecha, o 'skew positivo'. Esto quiere decir que el 50 % de los datos (la mediana) es inferior al promedio de datos. Por lo tanto, puede ser que los datos contengan outliers."
   ]
  },
  {
   "cell_type": "markdown",
   "metadata": {},
   "source": [
    "### Distribución horas"
   ]
  },
  {
   "cell_type": "code",
   "execution_count": 29,
   "metadata": {},
   "outputs": [
    {
     "data": {
      "image/png": "[encoded data removed]",
      "text/plain": [
       "<Figure size 432x288 with 1 Axes>"
      ]
     },
     "metadata": {
      "needs_background": "light"
     },
     "output_type": "display_data"
    }
   ],
   "source": [
    "cm_df[[\"hora\"]].hist()\n",
    "plt.tight_layout()\n",
    "plt.show()"
   ]
  },
  {
   "cell_type": "markdown",
   "metadata": {},
   "source": [
    "La primera hora es identificada por un 1. Por alguna razón hay medidas para la hora 25. Esto puede representar un error, y que la hora 25 sea la primera hora del día siguiente. Queda por confirmar con la fuente de los datos.\n",
    "\n",
    "Respecto a la distribución. Hay mpas registros para ciertas horas. Esto podría ser a que ciertas barras fueron monitoreadas más frecuentemente en términos de días/horas que otras. Dichas barras pueden ser más accesibles o más importantes, y por ende, son más frecuentadas."
   ]
  },
  {
   "cell_type": "markdown",
   "metadata": {},
   "source": [
    "### Distribución con respecto al promedio"
   ]
  },
  {
   "cell_type": "code",
   "execution_count": 31,
   "metadata": {},
   "outputs": [
    {
     "data": {
      "image/png": "[encoded data removed]",
      "text/plain": [
       "<Figure size 432x288 with 1 Axes>"
      ]
     },
     "metadata": {
      "needs_background": "light"
     },
     "output_type": "display_data"
    }
   ],
   "source": [
    "cm_df[[\"cmg_real\", \"cmg_prog\"]].boxplot()\n",
    "plt.tight_layout()\n",
    "plt.show()"
   ]
  },
  {
   "cell_type": "markdown",
   "metadata": {},
   "source": [
    "Los costos marginales reales muestran mayor variabilidad con respecto al promedio. A pesar de que ambos costos marginales tiene promedios parecidos, los costos marginales programados tienden a ser menores que los costos marginales reales.\n",
    "\n",
    "Podría ser que el método para calcular los costos marginales programados sea un un poco optimista. Sin embargo, los costos marginales reales tienden a diverger."
   ]
  },
  {
   "cell_type": "markdown",
   "metadata": {},
   "source": [
    "## Parte 2 - Construcción de variables\n",
    "+ desviación : diferencia entre los costos reales y programados\n",
    "+ desviación_pct: desviación en porcentaje respecto al costo programado\n",
    "+ desviacion_cat: 1 si la desviación porcentual sobrepasa el 15 %"
   ]
  },
  {
   "cell_type": "code",
   "execution_count": 64,
   "metadata": {},
   "outputs": [
    {
     "name": "stderr",
     "output_type": "stream",
     "text": [
      "C:\\Users\\HP\\anaconda3\\envs\\latam\\lib\\site-packages\\pandas\\core\\indexing.py:670: SettingWithCopyWarning: \n",
      "A value is trying to be set on a copy of a slice from a DataFrame\n",
      "\n",
      "See the caveats in the documentation: https://pandas.pydata.org/pandas-docs/stable/user_guide/indexing.html#returning-a-view-versus-a-copy\n",
      "  iloc._setitem_with_indexer(indexer, value)\n"
     ]
    },
    {
     "data": {
      "text/html": [
       "<div>\n",
       "<style scoped>\n",
       "    .dataframe tbody tr th:only-of-type {\n",
       "        vertical-align: middle;\n",
       "    }\n",
       "\n",
       "    .dataframe tbody tr th {\n",
       "        vertical-align: top;\n",
       "    }\n",
       "\n",
       "    .dataframe thead th {\n",
       "        text-align: right;\n",
       "    }\n",
       "</style>\n",
       "<table border=\"1\" class=\"dataframe\">\n",
       "  <thead>\n",
       "    <tr style=\"text-align: right;\">\n",
       "      <th></th>\n",
       "      <th>barra</th>\n",
       "      <th>fecha</th>\n",
       "      <th>hora</th>\n",
       "      <th>cmg_real</th>\n",
       "      <th>cmg_real_pesos</th>\n",
       "      <th>cmg_prog</th>\n",
       "      <th>desviacion</th>\n",
       "      <th>desviacion_pct</th>\n",
       "      <th>desviacion_cat</th>\n",
       "    </tr>\n",
       "  </thead>\n",
       "  <tbody>\n",
       "    <tr>\n",
       "      <th>0</th>\n",
       "      <td>BA01G004SE001T011</td>\n",
       "      <td>2019-01-01</td>\n",
       "      <td>1</td>\n",
       "      <td>50.41</td>\n",
       "      <td>35.06973</td>\n",
       "      <td>50.116286</td>\n",
       "      <td>0.293714</td>\n",
       "      <td>0.586064</td>\n",
       "      <td>0.0</td>\n",
       "    </tr>\n",
       "    <tr>\n",
       "      <th>1</th>\n",
       "      <td>BA01G004SE001T011</td>\n",
       "      <td>2019-01-01</td>\n",
       "      <td>2</td>\n",
       "      <td>50.41</td>\n",
       "      <td>35.06973</td>\n",
       "      <td>50.522836</td>\n",
       "      <td>-0.112836</td>\n",
       "      <td>-0.223336</td>\n",
       "      <td>0.0</td>\n",
       "    </tr>\n",
       "    <tr>\n",
       "      <th>2</th>\n",
       "      <td>BA01G004SE001T011</td>\n",
       "      <td>2019-01-01</td>\n",
       "      <td>3</td>\n",
       "      <td>49.40</td>\n",
       "      <td>34.36709</td>\n",
       "      <td>50.119505</td>\n",
       "      <td>-0.719505</td>\n",
       "      <td>-1.435578</td>\n",
       "      <td>0.0</td>\n",
       "    </tr>\n",
       "    <tr>\n",
       "      <th>3</th>\n",
       "      <td>BA01G004SE001T011</td>\n",
       "      <td>2019-01-01</td>\n",
       "      <td>4</td>\n",
       "      <td>48.56</td>\n",
       "      <td>33.78271</td>\n",
       "      <td>NaN</td>\n",
       "      <td>NaN</td>\n",
       "      <td>NaN</td>\n",
       "      <td>NaN</td>\n",
       "    </tr>\n",
       "    <tr>\n",
       "      <th>4</th>\n",
       "      <td>BA01G004SE001T011</td>\n",
       "      <td>2019-01-01</td>\n",
       "      <td>5</td>\n",
       "      <td>46.51</td>\n",
       "      <td>32.35654</td>\n",
       "      <td>49.854087</td>\n",
       "      <td>-3.344087</td>\n",
       "      <td>-6.707749</td>\n",
       "      <td>0.0</td>\n",
       "    </tr>\n",
       "    <tr>\n",
       "      <th>...</th>\n",
       "      <td>...</td>\n",
       "      <td>...</td>\n",
       "      <td>...</td>\n",
       "      <td>...</td>\n",
       "      <td>...</td>\n",
       "      <td>...</td>\n",
       "      <td>...</td>\n",
       "      <td>...</td>\n",
       "      <td>...</td>\n",
       "    </tr>\n",
       "    <tr>\n",
       "      <th>4396799</th>\n",
       "      <td>BA99L117SE054L117</td>\n",
       "      <td>2019-06-30</td>\n",
       "      <td>20</td>\n",
       "      <td>47.79</td>\n",
       "      <td>32.49051</td>\n",
       "      <td>46.800602</td>\n",
       "      <td>0.989398</td>\n",
       "      <td>2.114071</td>\n",
       "      <td>0.0</td>\n",
       "    </tr>\n",
       "    <tr>\n",
       "      <th>4396800</th>\n",
       "      <td>BA99L117SE054L117</td>\n",
       "      <td>2019-06-30</td>\n",
       "      <td>21</td>\n",
       "      <td>47.79</td>\n",
       "      <td>32.49051</td>\n",
       "      <td>48.607941</td>\n",
       "      <td>-0.817941</td>\n",
       "      <td>-1.682731</td>\n",
       "      <td>0.0</td>\n",
       "    </tr>\n",
       "    <tr>\n",
       "      <th>4396801</th>\n",
       "      <td>BA99L117SE054L117</td>\n",
       "      <td>2019-06-30</td>\n",
       "      <td>22</td>\n",
       "      <td>47.79</td>\n",
       "      <td>32.49051</td>\n",
       "      <td>48.537587</td>\n",
       "      <td>-0.747587</td>\n",
       "      <td>-1.540222</td>\n",
       "      <td>0.0</td>\n",
       "    </tr>\n",
       "    <tr>\n",
       "      <th>4396802</th>\n",
       "      <td>BA99L117SE054L117</td>\n",
       "      <td>2019-06-30</td>\n",
       "      <td>23</td>\n",
       "      <td>47.79</td>\n",
       "      <td>32.49051</td>\n",
       "      <td>47.783023</td>\n",
       "      <td>0.006977</td>\n",
       "      <td>0.014601</td>\n",
       "      <td>0.0</td>\n",
       "    </tr>\n",
       "    <tr>\n",
       "      <th>4396803</th>\n",
       "      <td>BA99L117SE054L117</td>\n",
       "      <td>2019-06-30</td>\n",
       "      <td>24</td>\n",
       "      <td>47.79</td>\n",
       "      <td>32.49051</td>\n",
       "      <td>43.563139</td>\n",
       "      <td>4.226861</td>\n",
       "      <td>9.702838</td>\n",
       "      <td>0.0</td>\n",
       "    </tr>\n",
       "  </tbody>\n",
       "</table>\n",
       "<p>4396804 rows × 9 columns</p>\n",
       "</div>"
      ],
      "text/plain": [
       "                     barra       fecha  hora  cmg_real  cmg_real_pesos  \\\n",
       "0        BA01G004SE001T011  2019-01-01     1     50.41        35.06973   \n",
       "1        BA01G004SE001T011  2019-01-01     2     50.41        35.06973   \n",
       "2        BA01G004SE001T011  2019-01-01     3     49.40        34.36709   \n",
       "3        BA01G004SE001T011  2019-01-01     4     48.56        33.78271   \n",
       "4        BA01G004SE001T011  2019-01-01     5     46.51        32.35654   \n",
       "...                    ...         ...   ...       ...             ...   \n",
       "4396799  BA99L117SE054L117  2019-06-30    20     47.79        32.49051   \n",
       "4396800  BA99L117SE054L117  2019-06-30    21     47.79        32.49051   \n",
       "4396801  BA99L117SE054L117  2019-06-30    22     47.79        32.49051   \n",
       "4396802  BA99L117SE054L117  2019-06-30    23     47.79        32.49051   \n",
       "4396803  BA99L117SE054L117  2019-06-30    24     47.79        32.49051   \n",
       "\n",
       "          cmg_prog  desviacion  desviacion_pct  desviacion_cat  \n",
       "0        50.116286    0.293714        0.586064             0.0  \n",
       "1        50.522836   -0.112836       -0.223336             0.0  \n",
       "2        50.119505   -0.719505       -1.435578             0.0  \n",
       "3              NaN         NaN             NaN             NaN  \n",
       "4        49.854087   -3.344087       -6.707749             0.0  \n",
       "...            ...         ...             ...             ...  \n",
       "4396799  46.800602    0.989398        2.114071             0.0  \n",
       "4396800  48.607941   -0.817941       -1.682731             0.0  \n",
       "4396801  48.537587   -0.747587       -1.540222             0.0  \n",
       "4396802  47.783023    0.006977        0.014601             0.0  \n",
       "4396803  43.563139    4.226861        9.702838             0.0  \n",
       "\n",
       "[4396804 rows x 9 columns]"
      ]
     },
     "execution_count": 64,
     "metadata": {},
     "output_type": "execute_result"
    }
   ],
   "source": [
    "# desviación\n",
    "cm_df[\"desviacion\"] = cm_df[\"cmg_real\"] - cm_df[\"cmg_prog\"]\n",
    "\n",
    "# desviación porcentual\n",
    "cm_df[\"desviacion_pct\"] = 100 * cm_df[\"desviacion\"] / cm_df[\"cmg_prog\"]\n",
    "\n",
    "# si la desviación sobrepasa el 15 % de desviación porcentual\n",
    "cm_df[\"desviacion_cat\"] = np.where(abs(cm_df[\"desviacion\"]) <= 15, 0, 1)\n",
    "\n",
    "# si la desviación porcentual es nula, entonces la variable categórica también\n",
    "cm_df[\"desviacion_cat\"].iloc[cm_df[\"desviacion_pct\"].astype(str)==\"nan\"] = np.nan\n",
    "\n",
    "cm_df"
   ]
  },
  {
   "cell_type": "markdown",
   "metadata": {},
   "source": [
    "### Distribución estática de desviacion_cat"
   ]
  },
  {
   "cell_type": "code",
   "execution_count": 65,
   "metadata": {},
   "outputs": [
    {
     "data": {
      "image/png": "[encoded data removed]",
      "text/plain": [
       "<Figure size 1008x504 with 1 Axes>"
      ]
     },
     "metadata": {},
     "output_type": "display_data"
    }
   ],
   "source": [
    "plot_distribution_labels(cm_df, \" Distribución estática de la desviación\", \"desviacion_cat\")"
   ]
  },
  {
   "cell_type": "markdown",
   "metadata": {},
   "source": [
    "### Distribución dinámica de desviacion_cat "
   ]
  },
  {
   "cell_type": "code",
   "execution_count": 87,
   "metadata": {},
   "outputs": [
    {
     "data": {
      "image/png": "[encoded data removed]",
      "text/plain": [
       "<Figure size 432x288 with 1 Axes>"
      ]
     },
     "metadata": {
      "needs_background": "light"
     },
     "output_type": "display_data"
    },
    {
     "name": "stdout",
     "output_type": "stream",
     "text": [
      "Wall time: 482 ms\n"
     ]
    }
   ],
   "source": [
    "%%time\n",
    "mean_desv_cat = cm_df.groupby('fecha')[['desviacion_cat']].mean()\n",
    "mean_desv_cat = mean_desv_cat.reset_index()\n",
    "mean_desv_cat['fecha'] = pd.to_datetime(mean_desv_cat['fecha'])\n",
    "\n",
    "mean_desv_cat.columns = ['fecha', 'desviacion_cat_promedio']\n",
    "\n",
    "plt.plot(mean_desv_cat['fecha'],mean_desv_cat['desviacion_cat_promedio'])\n",
    "plt.title('Dsitribución dinámica del promedio de desviacion_cat')\n",
    "plt.tight_layout()\n",
    "plt.show()"
   ]
  },
  {
   "cell_type": "markdown",
   "metadata": {},
   "source": [
    "Podemos ver que al menos en promedio, la desviación categórica sufre mucha variación temporal. Tiene périodos de tiempo donde hay muchos peaks, que indican mal estimación de los costos marginales por parte de la programación. Otros périodos, como en junio, donde por varios días se mantuvo a 0."
   ]
  },
  {
   "cell_type": "markdown",
   "metadata": {},
   "source": [
    "## Parte 3 - Visualización de datos"
   ]
  },
  {
   "cell_type": "code",
   "execution_count": 46,
   "metadata": {},
   "outputs": [
    {
     "data": {
      "image/png": "[encoded data removed]",
      "text/plain": [
       "<Figure size 432x288 with 1 Axes>"
      ]
     },
     "metadata": {
      "needs_background": "light"
     },
     "output_type": "display_data"
    }
   ],
   "source": [
    "time_plot_costo_barra(cm_df, 'BA40T005SE283T005', None, None)"
   ]
  },
  {
   "cell_type": "markdown",
   "metadata": {},
   "source": [
    "En términos generales, los costos marginales programados tienden a cubir los costos marginales reales. Sin embargo, en ciertos péridos de tiempo, los costos marginales reales se escapan del rango de valores de los costos marginales programados. \n",
    "\n"
   ]
  },
  {
   "cell_type": "markdown",
   "metadata": {},
   "source": [
    "### Costos marginales reales iguales a 0\n",
    "\n",
    "Se asume que los costos marginales reales no puden ser 0 todo el tiempo. Dado que esto indicaría que la barra no se encuentra en funcionamiento. Por lo tanto, son suprimidos del dataset"
   ]
  },
  {
   "cell_type": "code",
   "execution_count": 49,
   "metadata": {},
   "outputs": [
    {
     "data": {
      "text/html": [
       "<div>\n",
       "<style scoped>\n",
       "    .dataframe tbody tr th:only-of-type {\n",
       "        vertical-align: middle;\n",
       "    }\n",
       "\n",
       "    .dataframe tbody tr th {\n",
       "        vertical-align: top;\n",
       "    }\n",
       "\n",
       "    .dataframe thead th {\n",
       "        text-align: right;\n",
       "    }\n",
       "</style>\n",
       "<table border=\"1\" class=\"dataframe\">\n",
       "  <thead>\n",
       "    <tr style=\"text-align: right;\">\n",
       "      <th></th>\n",
       "      <th>barra</th>\n",
       "      <th>fecha</th>\n",
       "      <th>hora</th>\n",
       "      <th>cmg_real</th>\n",
       "      <th>cmg_real_pesos</th>\n",
       "      <th>cmg_prog</th>\n",
       "      <th>desviacion</th>\n",
       "      <th>desviacion_pct</th>\n",
       "      <th>desviacion_cat</th>\n",
       "    </tr>\n",
       "  </thead>\n",
       "  <tbody>\n",
       "    <tr>\n",
       "      <th>0</th>\n",
       "      <td>BA01G004SE001T011</td>\n",
       "      <td>2019-01-01</td>\n",
       "      <td>1</td>\n",
       "      <td>50.41</td>\n",
       "      <td>35.06973</td>\n",
       "      <td>50.116286</td>\n",
       "      <td>0.293714</td>\n",
       "      <td>0.586064</td>\n",
       "      <td>0.0</td>\n",
       "    </tr>\n",
       "    <tr>\n",
       "      <th>1</th>\n",
       "      <td>BA01G004SE001T011</td>\n",
       "      <td>2019-01-01</td>\n",
       "      <td>2</td>\n",
       "      <td>50.41</td>\n",
       "      <td>35.06973</td>\n",
       "      <td>50.522836</td>\n",
       "      <td>-0.112836</td>\n",
       "      <td>-0.223336</td>\n",
       "      <td>0.0</td>\n",
       "    </tr>\n",
       "    <tr>\n",
       "      <th>2</th>\n",
       "      <td>BA01G004SE001T011</td>\n",
       "      <td>2019-01-01</td>\n",
       "      <td>3</td>\n",
       "      <td>49.40</td>\n",
       "      <td>34.36709</td>\n",
       "      <td>50.119505</td>\n",
       "      <td>-0.719505</td>\n",
       "      <td>-1.435578</td>\n",
       "      <td>0.0</td>\n",
       "    </tr>\n",
       "    <tr>\n",
       "      <th>3</th>\n",
       "      <td>BA01G004SE001T011</td>\n",
       "      <td>2019-01-01</td>\n",
       "      <td>4</td>\n",
       "      <td>48.56</td>\n",
       "      <td>33.78271</td>\n",
       "      <td>NaN</td>\n",
       "      <td>NaN</td>\n",
       "      <td>NaN</td>\n",
       "      <td>NaN</td>\n",
       "    </tr>\n",
       "    <tr>\n",
       "      <th>4</th>\n",
       "      <td>BA01G004SE001T011</td>\n",
       "      <td>2019-01-01</td>\n",
       "      <td>5</td>\n",
       "      <td>46.51</td>\n",
       "      <td>32.35654</td>\n",
       "      <td>49.854087</td>\n",
       "      <td>-3.344087</td>\n",
       "      <td>-6.707749</td>\n",
       "      <td>0.0</td>\n",
       "    </tr>\n",
       "    <tr>\n",
       "      <th>...</th>\n",
       "      <td>...</td>\n",
       "      <td>...</td>\n",
       "      <td>...</td>\n",
       "      <td>...</td>\n",
       "      <td>...</td>\n",
       "      <td>...</td>\n",
       "      <td>...</td>\n",
       "      <td>...</td>\n",
       "      <td>...</td>\n",
       "    </tr>\n",
       "    <tr>\n",
       "      <th>4396799</th>\n",
       "      <td>BA99L117SE054L117</td>\n",
       "      <td>2019-06-30</td>\n",
       "      <td>20</td>\n",
       "      <td>47.79</td>\n",
       "      <td>32.49051</td>\n",
       "      <td>46.800602</td>\n",
       "      <td>0.989398</td>\n",
       "      <td>2.114071</td>\n",
       "      <td>0.0</td>\n",
       "    </tr>\n",
       "    <tr>\n",
       "      <th>4396800</th>\n",
       "      <td>BA99L117SE054L117</td>\n",
       "      <td>2019-06-30</td>\n",
       "      <td>21</td>\n",
       "      <td>47.79</td>\n",
       "      <td>32.49051</td>\n",
       "      <td>48.607941</td>\n",
       "      <td>-0.817941</td>\n",
       "      <td>-1.682731</td>\n",
       "      <td>0.0</td>\n",
       "    </tr>\n",
       "    <tr>\n",
       "      <th>4396801</th>\n",
       "      <td>BA99L117SE054L117</td>\n",
       "      <td>2019-06-30</td>\n",
       "      <td>22</td>\n",
       "      <td>47.79</td>\n",
       "      <td>32.49051</td>\n",
       "      <td>48.537587</td>\n",
       "      <td>-0.747587</td>\n",
       "      <td>-1.540222</td>\n",
       "      <td>0.0</td>\n",
       "    </tr>\n",
       "    <tr>\n",
       "      <th>4396802</th>\n",
       "      <td>BA99L117SE054L117</td>\n",
       "      <td>2019-06-30</td>\n",
       "      <td>23</td>\n",
       "      <td>47.79</td>\n",
       "      <td>32.49051</td>\n",
       "      <td>47.783023</td>\n",
       "      <td>0.006977</td>\n",
       "      <td>0.014601</td>\n",
       "      <td>0.0</td>\n",
       "    </tr>\n",
       "    <tr>\n",
       "      <th>4396803</th>\n",
       "      <td>BA99L117SE054L117</td>\n",
       "      <td>2019-06-30</td>\n",
       "      <td>24</td>\n",
       "      <td>47.79</td>\n",
       "      <td>32.49051</td>\n",
       "      <td>43.563139</td>\n",
       "      <td>4.226861</td>\n",
       "      <td>9.702838</td>\n",
       "      <td>0.0</td>\n",
       "    </tr>\n",
       "  </tbody>\n",
       "</table>\n",
       "<p>4375079 rows × 9 columns</p>\n",
       "</div>"
      ],
      "text/plain": [
       "                     barra       fecha  hora  cmg_real  cmg_real_pesos  \\\n",
       "0        BA01G004SE001T011  2019-01-01     1     50.41        35.06973   \n",
       "1        BA01G004SE001T011  2019-01-01     2     50.41        35.06973   \n",
       "2        BA01G004SE001T011  2019-01-01     3     49.40        34.36709   \n",
       "3        BA01G004SE001T011  2019-01-01     4     48.56        33.78271   \n",
       "4        BA01G004SE001T011  2019-01-01     5     46.51        32.35654   \n",
       "...                    ...         ...   ...       ...             ...   \n",
       "4396799  BA99L117SE054L117  2019-06-30    20     47.79        32.49051   \n",
       "4396800  BA99L117SE054L117  2019-06-30    21     47.79        32.49051   \n",
       "4396801  BA99L117SE054L117  2019-06-30    22     47.79        32.49051   \n",
       "4396802  BA99L117SE054L117  2019-06-30    23     47.79        32.49051   \n",
       "4396803  BA99L117SE054L117  2019-06-30    24     47.79        32.49051   \n",
       "\n",
       "          cmg_prog  desviacion  desviacion_pct  desviacion_cat  \n",
       "0        50.116286    0.293714        0.586064             0.0  \n",
       "1        50.522836   -0.112836       -0.223336             0.0  \n",
       "2        50.119505   -0.719505       -1.435578             0.0  \n",
       "3              NaN         NaN             NaN             NaN  \n",
       "4        49.854087   -3.344087       -6.707749             0.0  \n",
       "...            ...         ...             ...             ...  \n",
       "4396799  46.800602    0.989398        2.114071             0.0  \n",
       "4396800  48.607941   -0.817941       -1.682731             0.0  \n",
       "4396801  48.537587   -0.747587       -1.540222             0.0  \n",
       "4396802  47.783023    0.006977        0.014601             0.0  \n",
       "4396803  43.563139    4.226861        9.702838             0.0  \n",
       "\n",
       "[4375079 rows x 9 columns]"
      ]
     },
     "execution_count": 49,
     "metadata": {},
     "output_type": "execute_result"
    }
   ],
   "source": [
    "## suprimiendo barras tales que cmg_real = 0\n",
    "aux = cm_df.groupby(\"barra\")[\"cmg_real\"].sum().to_frame()\n",
    "aux.columns = [\"cmg_real\"]\n",
    "barras_to_drop = aux[aux[\"cmg_real\"]==0].index\n",
    "\n",
    "cm_df = cm_df[~cm_df[\"barra\"].isin(barras_to_drop)]\n",
    "cm_df"
   ]
  },
  {
   "cell_type": "markdown",
   "metadata": {},
   "source": [
    "##### Borramos de la memoria lo que ya no utilizaremos"
   ]
  },
  {
   "cell_type": "code",
   "execution_count": 837,
   "metadata": {},
   "outputs": [
    {
     "data": {
      "text/plain": [
       "(700, 10, 10)"
      ]
     },
     "execution_count": 837,
     "metadata": {},
     "output_type": "execute_result"
    }
   ],
   "source": [
    "del aux\n",
    "del cm_df\n",
    "del cmr_df\n",
    "del cmp_df\n",
    "\n",
    "gc.collect()"
   ]
  },
  {
   "cell_type": "markdown",
   "metadata": {},
   "source": [
    "## Parte 4 - Base para modelos"
   ]
  },
  {
   "cell_type": "code",
   "execution_count": 2,
   "metadata": {},
   "outputs": [
    {
     "data": {
      "text/html": [
       "<div>\n",
       "<style scoped>\n",
       "    .dataframe tbody tr th:only-of-type {\n",
       "        vertical-align: middle;\n",
       "    }\n",
       "\n",
       "    .dataframe tbody tr th {\n",
       "        vertical-align: top;\n",
       "    }\n",
       "\n",
       "    .dataframe thead th {\n",
       "        text-align: right;\n",
       "    }\n",
       "</style>\n",
       "<table border=\"1\" class=\"dataframe\">\n",
       "  <thead>\n",
       "    <tr style=\"text-align: right;\">\n",
       "      <th></th>\n",
       "      <th>nemotecnico_se</th>\n",
       "      <th>fecha</th>\n",
       "      <th>hora</th>\n",
       "      <th>gen_eolica_total_mwh</th>\n",
       "      <th>gen_geotermica_total_mwh</th>\n",
       "      <th>gen_hidraulica_total_mwh</th>\n",
       "      <th>gen_solar_total_mwh</th>\n",
       "      <th>gen_termica_total_mwh</th>\n",
       "      <th>cmg_real</th>\n",
       "      <th>cmg_prog</th>\n",
       "      <th>cmg_desv</th>\n",
       "      <th>cmg_desv_pct</th>\n",
       "      <th>n_barras</th>\n",
       "      <th>demanda_mwh</th>\n",
       "      <th>cap_inst_mw</th>\n",
       "    </tr>\n",
       "  </thead>\n",
       "  <tbody>\n",
       "    <tr>\n",
       "      <th>0</th>\n",
       "      <td>SE031G216</td>\n",
       "      <td>2019-01-04</td>\n",
       "      <td>1</td>\n",
       "      <td>NaN</td>\n",
       "      <td>NaN</td>\n",
       "      <td>NaN</td>\n",
       "      <td>NaN</td>\n",
       "      <td>0.000</td>\n",
       "      <td>56.2</td>\n",
       "      <td>55.627852</td>\n",
       "      <td>0.57</td>\n",
       "      <td>1.02</td>\n",
       "      <td>2</td>\n",
       "      <td>1210767</td>\n",
       "      <td>13.20785</td>\n",
       "    </tr>\n",
       "    <tr>\n",
       "      <th>1</th>\n",
       "      <td>SE031G216</td>\n",
       "      <td>2019-01-04</td>\n",
       "      <td>2</td>\n",
       "      <td>NaN</td>\n",
       "      <td>NaN</td>\n",
       "      <td>NaN</td>\n",
       "      <td>NaN</td>\n",
       "      <td>0.000</td>\n",
       "      <td>56.2</td>\n",
       "      <td>55.376645</td>\n",
       "      <td>0.82</td>\n",
       "      <td>1.48</td>\n",
       "      <td>2</td>\n",
       "      <td>113232</td>\n",
       "      <td>13.20785</td>\n",
       "    </tr>\n",
       "    <tr>\n",
       "      <th>2</th>\n",
       "      <td>SE031G216</td>\n",
       "      <td>2019-01-04</td>\n",
       "      <td>3</td>\n",
       "      <td>NaN</td>\n",
       "      <td>NaN</td>\n",
       "      <td>NaN</td>\n",
       "      <td>NaN</td>\n",
       "      <td>0.000</td>\n",
       "      <td>56.2</td>\n",
       "      <td>59.531891</td>\n",
       "      <td>-3.33</td>\n",
       "      <td>-5.59</td>\n",
       "      <td>2</td>\n",
       "      <td>1089415</td>\n",
       "      <td>13.20785</td>\n",
       "    </tr>\n",
       "    <tr>\n",
       "      <th>3</th>\n",
       "      <td>SE031G216</td>\n",
       "      <td>2019-01-04</td>\n",
       "      <td>4</td>\n",
       "      <td>NaN</td>\n",
       "      <td>NaN</td>\n",
       "      <td>NaN</td>\n",
       "      <td>NaN</td>\n",
       "      <td>0.000</td>\n",
       "      <td>56.2</td>\n",
       "      <td>174.378923</td>\n",
       "      <td>-118.18</td>\n",
       "      <td>-67.77</td>\n",
       "      <td>2</td>\n",
       "      <td>1096867</td>\n",
       "      <td>13.20785</td>\n",
       "    </tr>\n",
       "    <tr>\n",
       "      <th>4</th>\n",
       "      <td>SE031G216</td>\n",
       "      <td>2019-01-04</td>\n",
       "      <td>5</td>\n",
       "      <td>NaN</td>\n",
       "      <td>NaN</td>\n",
       "      <td>NaN</td>\n",
       "      <td>NaN</td>\n",
       "      <td>0.000</td>\n",
       "      <td>56.2</td>\n",
       "      <td>172.820310</td>\n",
       "      <td>-116.62</td>\n",
       "      <td>-67.48</td>\n",
       "      <td>2</td>\n",
       "      <td>1071851</td>\n",
       "      <td>13.20785</td>\n",
       "    </tr>\n",
       "    <tr>\n",
       "      <th>...</th>\n",
       "      <td>...</td>\n",
       "      <td>...</td>\n",
       "      <td>...</td>\n",
       "      <td>...</td>\n",
       "      <td>...</td>\n",
       "      <td>...</td>\n",
       "      <td>...</td>\n",
       "      <td>...</td>\n",
       "      <td>...</td>\n",
       "      <td>...</td>\n",
       "      <td>...</td>\n",
       "      <td>...</td>\n",
       "      <td>...</td>\n",
       "      <td>...</td>\n",
       "      <td>...</td>\n",
       "    </tr>\n",
       "    <tr>\n",
       "      <th>112774</th>\n",
       "      <td>SE170T005</td>\n",
       "      <td>2019-06-30</td>\n",
       "      <td>20</td>\n",
       "      <td>NaN</td>\n",
       "      <td>NaN</td>\n",
       "      <td>NaN</td>\n",
       "      <td>NaN</td>\n",
       "      <td>0.775</td>\n",
       "      <td>44.1</td>\n",
       "      <td>41.362200</td>\n",
       "      <td>2.74</td>\n",
       "      <td>6.62</td>\n",
       "      <td>3</td>\n",
       "      <td>9334786</td>\n",
       "      <td>30.14000</td>\n",
       "    </tr>\n",
       "    <tr>\n",
       "      <th>112775</th>\n",
       "      <td>SE170T005</td>\n",
       "      <td>2019-06-30</td>\n",
       "      <td>21</td>\n",
       "      <td>NaN</td>\n",
       "      <td>NaN</td>\n",
       "      <td>NaN</td>\n",
       "      <td>NaN</td>\n",
       "      <td>0.925</td>\n",
       "      <td>44.1</td>\n",
       "      <td>42.217780</td>\n",
       "      <td>1.88</td>\n",
       "      <td>4.45</td>\n",
       "      <td>3</td>\n",
       "      <td>9353773</td>\n",
       "      <td>30.14000</td>\n",
       "    </tr>\n",
       "    <tr>\n",
       "      <th>112776</th>\n",
       "      <td>SE170T005</td>\n",
       "      <td>2019-06-30</td>\n",
       "      <td>22</td>\n",
       "      <td>NaN</td>\n",
       "      <td>NaN</td>\n",
       "      <td>NaN</td>\n",
       "      <td>NaN</td>\n",
       "      <td>0.975</td>\n",
       "      <td>44.1</td>\n",
       "      <td>42.197451</td>\n",
       "      <td>1.90</td>\n",
       "      <td>4.50</td>\n",
       "      <td>3</td>\n",
       "      <td>9114529</td>\n",
       "      <td>30.14000</td>\n",
       "    </tr>\n",
       "    <tr>\n",
       "      <th>112777</th>\n",
       "      <td>SE170T005</td>\n",
       "      <td>2019-06-30</td>\n",
       "      <td>23</td>\n",
       "      <td>NaN</td>\n",
       "      <td>NaN</td>\n",
       "      <td>NaN</td>\n",
       "      <td>NaN</td>\n",
       "      <td>0.750</td>\n",
       "      <td>44.1</td>\n",
       "      <td>41.473556</td>\n",
       "      <td>2.63</td>\n",
       "      <td>6.34</td>\n",
       "      <td>3</td>\n",
       "      <td>8118728</td>\n",
       "      <td>30.14000</td>\n",
       "    </tr>\n",
       "    <tr>\n",
       "      <th>112778</th>\n",
       "      <td>SE170T005</td>\n",
       "      <td>2019-06-30</td>\n",
       "      <td>24</td>\n",
       "      <td>NaN</td>\n",
       "      <td>NaN</td>\n",
       "      <td>NaN</td>\n",
       "      <td>NaN</td>\n",
       "      <td>0.700</td>\n",
       "      <td>44.1</td>\n",
       "      <td>36.197329</td>\n",
       "      <td>7.90</td>\n",
       "      <td>21.82</td>\n",
       "      <td>3</td>\n",
       "      <td>6888256</td>\n",
       "      <td>30.14000</td>\n",
       "    </tr>\n",
       "  </tbody>\n",
       "</table>\n",
       "<p>112779 rows × 15 columns</p>\n",
       "</div>"
      ],
      "text/plain": [
       "       nemotecnico_se       fecha  hora  gen_eolica_total_mwh  \\\n",
       "0           SE031G216  2019-01-04     1                   NaN   \n",
       "1           SE031G216  2019-01-04     2                   NaN   \n",
       "2           SE031G216  2019-01-04     3                   NaN   \n",
       "3           SE031G216  2019-01-04     4                   NaN   \n",
       "4           SE031G216  2019-01-04     5                   NaN   \n",
       "...               ...         ...   ...                   ...   \n",
       "112774      SE170T005  2019-06-30    20                   NaN   \n",
       "112775      SE170T005  2019-06-30    21                   NaN   \n",
       "112776      SE170T005  2019-06-30    22                   NaN   \n",
       "112777      SE170T005  2019-06-30    23                   NaN   \n",
       "112778      SE170T005  2019-06-30    24                   NaN   \n",
       "\n",
       "        gen_geotermica_total_mwh  gen_hidraulica_total_mwh  \\\n",
       "0                            NaN                       NaN   \n",
       "1                            NaN                       NaN   \n",
       "2                            NaN                       NaN   \n",
       "3                            NaN                       NaN   \n",
       "4                            NaN                       NaN   \n",
       "...                          ...                       ...   \n",
       "112774                       NaN                       NaN   \n",
       "112775                       NaN                       NaN   \n",
       "112776                       NaN                       NaN   \n",
       "112777                       NaN                       NaN   \n",
       "112778                       NaN                       NaN   \n",
       "\n",
       "        gen_solar_total_mwh  gen_termica_total_mwh  cmg_real    cmg_prog  \\\n",
       "0                       NaN                  0.000      56.2   55.627852   \n",
       "1                       NaN                  0.000      56.2   55.376645   \n",
       "2                       NaN                  0.000      56.2   59.531891   \n",
       "3                       NaN                  0.000      56.2  174.378923   \n",
       "4                       NaN                  0.000      56.2  172.820310   \n",
       "...                     ...                    ...       ...         ...   \n",
       "112774                  NaN                  0.775      44.1   41.362200   \n",
       "112775                  NaN                  0.925      44.1   42.217780   \n",
       "112776                  NaN                  0.975      44.1   42.197451   \n",
       "112777                  NaN                  0.750      44.1   41.473556   \n",
       "112778                  NaN                  0.700      44.1   36.197329   \n",
       "\n",
       "        cmg_desv  cmg_desv_pct  n_barras  demanda_mwh  cap_inst_mw  \n",
       "0           0.57          1.02         2      1210767     13.20785  \n",
       "1           0.82          1.48         2       113232     13.20785  \n",
       "2          -3.33         -5.59         2      1089415     13.20785  \n",
       "3        -118.18        -67.77         2      1096867     13.20785  \n",
       "4        -116.62        -67.48         2      1071851     13.20785  \n",
       "...          ...           ...       ...          ...          ...  \n",
       "112774      2.74          6.62         3      9334786     30.14000  \n",
       "112775      1.88          4.45         3      9353773     30.14000  \n",
       "112776      1.90          4.50         3      9114529     30.14000  \n",
       "112777      2.63          6.34         3      8118728     30.14000  \n",
       "112778      7.90         21.82         3      6888256     30.14000  \n",
       "\n",
       "[112779 rows x 15 columns]"
      ]
     },
     "execution_count": 2,
     "metadata": {},
     "output_type": "execute_result"
    }
   ],
   "source": [
    "ds = pd.read_csv(\"base_para_prediccion.csv\")\n",
    "ds[\"fecha\"] = pd.to_datetime(ds[\"fecha\"]).dt.date\n",
    "ds"
   ]
  },
  {
   "cell_type": "code",
   "execution_count": 3,
   "metadata": {},
   "outputs": [
    {
     "name": "stdout",
     "output_type": "stream",
     "text": [
      "Cantidad de filas: 112779\n",
      "Cantidad de variables: 15\n",
      "Los datos van del 2019-01-01 al 2019-06-30\n",
      "Hay 29 subestaciones en la base de datos\n",
      "Horas de medición: 25\n"
     ]
    }
   ],
   "source": [
    "print(f\"Cantidad de filas: {ds.shape[0]}\")\n",
    "print(f\"Cantidad de variables: {ds.shape[1]}\")\n",
    "print(f\"Los datos van del {min(ds['fecha'])} al {max(ds['fecha'])}\")\n",
    "print(f\"Hay {len(ds['nemotecnico_se'].unique())} subestaciones en la base de datos\")\n",
    "print(f\"Horas de medición: {len(ds['hora'].unique())}\")"
   ]
  },
  {
   "cell_type": "markdown",
   "metadata": {},
   "source": [
    "### Datatypes"
   ]
  },
  {
   "cell_type": "code",
   "execution_count": 4,
   "metadata": {},
   "outputs": [
    {
     "data": {
      "text/plain": [
       "nemotecnico_se               object\n",
       "fecha                        object\n",
       "hora                          int64\n",
       "gen_eolica_total_mwh        float64\n",
       "gen_geotermica_total_mwh    float64\n",
       "gen_hidraulica_total_mwh    float64\n",
       "gen_solar_total_mwh         float64\n",
       "gen_termica_total_mwh       float64\n",
       "cmg_real                    float64\n",
       "cmg_prog                    float64\n",
       "cmg_desv                    float64\n",
       "cmg_desv_pct                float64\n",
       "n_barras                      int64\n",
       "demanda_mwh                   int64\n",
       "cap_inst_mw                 float64\n",
       "dtype: object"
      ]
     },
     "execution_count": 4,
     "metadata": {},
     "output_type": "execute_result"
    }
   ],
   "source": [
    "ds.dtypes"
   ]
  },
  {
   "cell_type": "markdown",
   "metadata": {},
   "source": [
    "### Estadísticas descriptivas de las variables numéricas"
   ]
  },
  {
   "cell_type": "code",
   "execution_count": 63,
   "metadata": {},
   "outputs": [
    {
     "data": {
      "text/html": [
       "<div>\n",
       "<style scoped>\n",
       "    .dataframe tbody tr th:only-of-type {\n",
       "        vertical-align: middle;\n",
       "    }\n",
       "\n",
       "    .dataframe tbody tr th {\n",
       "        vertical-align: top;\n",
       "    }\n",
       "\n",
       "    .dataframe thead th {\n",
       "        text-align: right;\n",
       "    }\n",
       "</style>\n",
       "<table border=\"1\" class=\"dataframe\">\n",
       "  <thead>\n",
       "    <tr style=\"text-align: right;\">\n",
       "      <th></th>\n",
       "      <th>hora</th>\n",
       "      <th>gen_eolica_total_mwh</th>\n",
       "      <th>gen_geotermica_total_mwh</th>\n",
       "      <th>gen_hidraulica_total_mwh</th>\n",
       "      <th>gen_solar_total_mwh</th>\n",
       "      <th>gen_termica_total_mwh</th>\n",
       "      <th>cmg_real</th>\n",
       "      <th>cmg_prog</th>\n",
       "      <th>cmg_desv</th>\n",
       "      <th>cmg_desv_pct</th>\n",
       "      <th>n_barras</th>\n",
       "      <th>demanda_mwh</th>\n",
       "      <th>cap_inst_mw</th>\n",
       "    </tr>\n",
       "  </thead>\n",
       "  <tbody>\n",
       "    <tr>\n",
       "      <th>mean</th>\n",
       "      <td>12.502993</td>\n",
       "      <td>NaN</td>\n",
       "      <td>NaN</td>\n",
       "      <td>38.120053</td>\n",
       "      <td>3.764987</td>\n",
       "      <td>40.583146</td>\n",
       "      <td>61.170058</td>\n",
       "      <td>62.215400</td>\n",
       "      <td>-1.045338</td>\n",
       "      <td>inf</td>\n",
       "      <td>2.331844</td>\n",
       "      <td>6.357056e+07</td>\n",
       "      <td>128.719565</td>\n",
       "    </tr>\n",
       "    <tr>\n",
       "      <th>std</th>\n",
       "      <td>6.924090</td>\n",
       "      <td>NaN</td>\n",
       "      <td>NaN</td>\n",
       "      <td>69.838109</td>\n",
       "      <td>12.904388</td>\n",
       "      <td>101.083396</td>\n",
       "      <td>25.414147</td>\n",
       "      <td>25.307759</td>\n",
       "      <td>24.711575</td>\n",
       "      <td>NaN</td>\n",
       "      <td>1.304096</td>\n",
       "      <td>3.948683e+08</td>\n",
       "      <td>167.948649</td>\n",
       "    </tr>\n",
       "    <tr>\n",
       "      <th>min</th>\n",
       "      <td>1.000000</td>\n",
       "      <td>NaN</td>\n",
       "      <td>NaN</td>\n",
       "      <td>0.000000</td>\n",
       "      <td>0.000000</td>\n",
       "      <td>0.000000</td>\n",
       "      <td>0.000000</td>\n",
       "      <td>-1.713131</td>\n",
       "      <td>-562.470000</td>\n",
       "      <td>-3403.97</td>\n",
       "      <td>1.000000</td>\n",
       "      <td>-9.821095e+09</td>\n",
       "      <td>2.989800</td>\n",
       "    </tr>\n",
       "    <tr>\n",
       "      <th>25%</th>\n",
       "      <td>7.000000</td>\n",
       "      <td>NaN</td>\n",
       "      <td>NaN</td>\n",
       "      <td>0.849787</td>\n",
       "      <td>0.000000</td>\n",
       "      <td>0.000000</td>\n",
       "      <td>49.130000</td>\n",
       "      <td>49.906745</td>\n",
       "      <td>-3.790000</td>\n",
       "      <td>-7.07</td>\n",
       "      <td>1.000000</td>\n",
       "      <td>7.464800e+05</td>\n",
       "      <td>18.420000</td>\n",
       "    </tr>\n",
       "    <tr>\n",
       "      <th>50%</th>\n",
       "      <td>13.000000</td>\n",
       "      <td>NaN</td>\n",
       "      <td>NaN</td>\n",
       "      <td>9.600000</td>\n",
       "      <td>0.000000</td>\n",
       "      <td>0.000000</td>\n",
       "      <td>54.610000</td>\n",
       "      <td>55.420601</td>\n",
       "      <td>-0.310000</td>\n",
       "      <td>-0.58</td>\n",
       "      <td>2.000000</td>\n",
       "      <td>4.507282e+06</td>\n",
       "      <td>51.850000</td>\n",
       "    </tr>\n",
       "    <tr>\n",
       "      <th>75%</th>\n",
       "      <td>19.000000</td>\n",
       "      <td>NaN</td>\n",
       "      <td>NaN</td>\n",
       "      <td>40.000000</td>\n",
       "      <td>1.571022</td>\n",
       "      <td>15.960000</td>\n",
       "      <td>63.500000</td>\n",
       "      <td>64.701951</td>\n",
       "      <td>1.670000</td>\n",
       "      <td>2.92</td>\n",
       "      <td>3.000000</td>\n",
       "      <td>1.332345e+07</td>\n",
       "      <td>184.685500</td>\n",
       "    </tr>\n",
       "    <tr>\n",
       "      <th>max</th>\n",
       "      <td>25.000000</td>\n",
       "      <td>NaN</td>\n",
       "      <td>NaN</td>\n",
       "      <td>472.000000</td>\n",
       "      <td>86.050000</td>\n",
       "      <td>570.600800</td>\n",
       "      <td>240.360000</td>\n",
       "      <td>610.600000</td>\n",
       "      <td>175.020000</td>\n",
       "      <td>inf</td>\n",
       "      <td>6.000000</td>\n",
       "      <td>1.004240e+10</td>\n",
       "      <td>597.782800</td>\n",
       "    </tr>\n",
       "  </tbody>\n",
       "</table>\n",
       "</div>"
      ],
      "text/plain": [
       "           hora  gen_eolica_total_mwh  gen_geotermica_total_mwh  \\\n",
       "mean  12.502993                   NaN                       NaN   \n",
       "std    6.924090                   NaN                       NaN   \n",
       "min    1.000000                   NaN                       NaN   \n",
       "25%    7.000000                   NaN                       NaN   \n",
       "50%   13.000000                   NaN                       NaN   \n",
       "75%   19.000000                   NaN                       NaN   \n",
       "max   25.000000                   NaN                       NaN   \n",
       "\n",
       "      gen_hidraulica_total_mwh  gen_solar_total_mwh  gen_termica_total_mwh  \\\n",
       "mean                 38.120053             3.764987              40.583146   \n",
       "std                  69.838109            12.904388             101.083396   \n",
       "min                   0.000000             0.000000               0.000000   \n",
       "25%                   0.849787             0.000000               0.000000   \n",
       "50%                   9.600000             0.000000               0.000000   \n",
       "75%                  40.000000             1.571022              15.960000   \n",
       "max                 472.000000            86.050000             570.600800   \n",
       "\n",
       "        cmg_real    cmg_prog    cmg_desv  cmg_desv_pct  n_barras  \\\n",
       "mean   61.170058   62.215400   -1.045338           inf  2.331844   \n",
       "std    25.414147   25.307759   24.711575           NaN  1.304096   \n",
       "min     0.000000   -1.713131 -562.470000      -3403.97  1.000000   \n",
       "25%    49.130000   49.906745   -3.790000         -7.07  1.000000   \n",
       "50%    54.610000   55.420601   -0.310000         -0.58  2.000000   \n",
       "75%    63.500000   64.701951    1.670000          2.92  3.000000   \n",
       "max   240.360000  610.600000  175.020000           inf  6.000000   \n",
       "\n",
       "       demanda_mwh  cap_inst_mw  \n",
       "mean  6.357056e+07   128.719565  \n",
       "std   3.948683e+08   167.948649  \n",
       "min  -9.821095e+09     2.989800  \n",
       "25%   7.464800e+05    18.420000  \n",
       "50%   4.507282e+06    51.850000  \n",
       "75%   1.332345e+07   184.685500  \n",
       "max   1.004240e+10   597.782800  "
      ]
     },
     "execution_count": 63,
     "metadata": {},
     "output_type": "execute_result"
    }
   ],
   "source": [
    "ds.describe().drop(\"count\")"
   ]
  },
  {
   "cell_type": "markdown",
   "metadata": {},
   "source": [
    "### Estadísticas descriptivas de las variables categóricas"
   ]
  },
  {
   "cell_type": "code",
   "execution_count": 64,
   "metadata": {},
   "outputs": [
    {
     "data": {
      "text/html": [
       "<div>\n",
       "<style scoped>\n",
       "    .dataframe tbody tr th:only-of-type {\n",
       "        vertical-align: middle;\n",
       "    }\n",
       "\n",
       "    .dataframe tbody tr th {\n",
       "        vertical-align: top;\n",
       "    }\n",
       "\n",
       "    .dataframe thead th {\n",
       "        text-align: right;\n",
       "    }\n",
       "</style>\n",
       "<table border=\"1\" class=\"dataframe\">\n",
       "  <thead>\n",
       "    <tr style=\"text-align: right;\">\n",
       "      <th></th>\n",
       "      <th>unique</th>\n",
       "      <th>top</th>\n",
       "      <th>freq</th>\n",
       "    </tr>\n",
       "  </thead>\n",
       "  <tbody>\n",
       "    <tr>\n",
       "      <th>nemotecnico_se</th>\n",
       "      <td>29</td>\n",
       "      <td>SE004T002</td>\n",
       "      <td>4345</td>\n",
       "    </tr>\n",
       "    <tr>\n",
       "      <th>fecha</th>\n",
       "      <td>181</td>\n",
       "      <td>2019-04-06</td>\n",
       "      <td>675</td>\n",
       "    </tr>\n",
       "  </tbody>\n",
       "</table>\n",
       "</div>"
      ],
      "text/plain": [
       "               unique         top  freq\n",
       "nemotecnico_se     29   SE004T002  4345\n",
       "fecha             181  2019-04-06   675"
      ]
     },
     "execution_count": 64,
     "metadata": {},
     "output_type": "execute_result"
    }
   ],
   "source": [
    "ds.describe(include='object').drop(\"count\").T"
   ]
  },
  {
   "cell_type": "markdown",
   "metadata": {},
   "source": [
    "### Valores nulos"
   ]
  },
  {
   "cell_type": "code",
   "execution_count": 65,
   "metadata": {},
   "outputs": [
    {
     "name": "stdout",
     "output_type": "stream",
     "text": [
      "Hay 15 columnas.\n",
      "Hay 5 columns with missing values\n"
     ]
    },
    {
     "data": {
      "text/html": [
       "<div>\n",
       "<style scoped>\n",
       "    .dataframe tbody tr th:only-of-type {\n",
       "        vertical-align: middle;\n",
       "    }\n",
       "\n",
       "    .dataframe tbody tr th {\n",
       "        vertical-align: top;\n",
       "    }\n",
       "\n",
       "    .dataframe thead th {\n",
       "        text-align: right;\n",
       "    }\n",
       "</style>\n",
       "<table border=\"1\" class=\"dataframe\">\n",
       "  <thead>\n",
       "    <tr style=\"text-align: right;\">\n",
       "      <th></th>\n",
       "      <th>Missing Values</th>\n",
       "      <th>% of Total Values</th>\n",
       "    </tr>\n",
       "  </thead>\n",
       "  <tbody>\n",
       "    <tr>\n",
       "      <th>gen_eolica_total_mwh</th>\n",
       "      <td>112779</td>\n",
       "      <td>100.0</td>\n",
       "    </tr>\n",
       "    <tr>\n",
       "      <th>gen_geotermica_total_mwh</th>\n",
       "      <td>112779</td>\n",
       "      <td>100.0</td>\n",
       "    </tr>\n",
       "    <tr>\n",
       "      <th>gen_hidraulica_total_mwh</th>\n",
       "      <td>78595</td>\n",
       "      <td>69.7</td>\n",
       "    </tr>\n",
       "    <tr>\n",
       "      <th>gen_solar_total_mwh</th>\n",
       "      <td>70961</td>\n",
       "      <td>62.9</td>\n",
       "    </tr>\n",
       "    <tr>\n",
       "      <th>gen_termica_total_mwh</th>\n",
       "      <td>50916</td>\n",
       "      <td>45.1</td>\n",
       "    </tr>\n",
       "  </tbody>\n",
       "</table>\n",
       "</div>"
      ],
      "text/plain": [
       "                          Missing Values  % of Total Values\n",
       "gen_eolica_total_mwh              112779              100.0\n",
       "gen_geotermica_total_mwh          112779              100.0\n",
       "gen_hidraulica_total_mwh           78595               69.7\n",
       "gen_solar_total_mwh                70961               62.9\n",
       "gen_termica_total_mwh              50916               45.1"
      ]
     },
     "execution_count": 65,
     "metadata": {},
     "output_type": "execute_result"
    }
   ],
   "source": [
    "missing_values_table(ds)"
   ]
  },
  {
   "cell_type": "markdown",
   "metadata": {},
   "source": [
    "No hay datos sobre la generación eólica total, ni de la generación geotérmica total."
   ]
  },
  {
   "cell_type": "markdown",
   "metadata": {},
   "source": [
    "### Valores duplicados"
   ]
  },
  {
   "cell_type": "code",
   "execution_count": 66,
   "metadata": {},
   "outputs": [
    {
     "name": "stdout",
     "output_type": "stream",
     "text": [
      "Hay 0 filas duplicadas\n"
     ]
    }
   ],
   "source": [
    "print(f\"Hay {ds.shape[0] - ds.drop_duplicates().shape[0]} filas duplicadas\")"
   ]
  },
  {
   "cell_type": "markdown",
   "metadata": {},
   "source": [
    "### Nuevas variables para representar la variabilidad temporal"
   ]
  },
  {
   "cell_type": "code",
   "execution_count": 5,
   "metadata": {},
   "outputs": [
    {
     "name": "stdout",
     "output_type": "stream",
     "text": [
      "Wall time: 1min 9s\n"
     ]
    }
   ],
   "source": [
    "%%time\n",
    "# año\n",
    "ds[\"ano\"] = ds[\"fecha\"].apply(lambda row: row.year)\n",
    "\n",
    "# mes\n",
    "ds[\"mes\"] = ds[\"fecha\"].apply(lambda row: row.month)\n",
    "\n",
    "# week of year\n",
    "ds[\"semana_ano\"] = ds[\"fecha\"].apply(lambda row: row.isocalendar()[1])\n",
    "\n",
    "# día del calendario\n",
    "ds[\"dia_calendario\"] = ds[\"fecha\"].apply(lambda row: int((row - datetime.date(row.year, 1, 1)).days) + 1) \n",
    "\n",
    "# día de la semana\n",
    "ds[\"dia_semana\"] = ds[\"fecha\"].apply(lambda row: row.weekday())\n",
    "\n",
    "# fin de semana\n",
    "ds[\"findesemana\"] = ds[\"dia_semana\"].apply(lambda row: 1 if row in [5,6] else 0)\n",
    "\n",
    "horas_ano = pd.DataFrame({\"dia_calendario\": sorted(len(ds[\"hora\"].unique())* [d for d in ds[\"dia_calendario\"].unique()]), \n",
    "                           \"hora_dia\": len(ds[\"dia_calendario\"].unique()) * [h for h in sorted(ds[\"hora\"].unique())],\n",
    "                          \"hora_ano\": range(1,len(sorted(len(ds[\"hora\"].unique())* [d for d in ds[\"dia_calendario\"].unique()]))+1)})\n",
    "\n",
    "# hora del año\n",
    "ds[\"hora_ano\"] = ds.apply(lambda row: get_hora_ano(horas_ano, row[\"dia_calendario\"], row[\"hora\"]) , axis=1)\n",
    "ds = ds.sort_values(\"hora_ano\")\n",
    "\n",
    "# total mwh\n",
    "ds[\"en_total_mwh\"] = np.sum(ds[[c for c in ds.columns if \"total\" in c]], axis=1)\n",
    "\n",
    "# variable categórica: 1 si la desvición de costos marginales porcentual es superior al 15 %\n",
    "ds[\"cmg_cat\"] = np.where(abs(ds[\"cmg_desv_pct\"]) <= 15, 0, 1)"
   ]
  },
  {
   "cell_type": "code",
   "execution_count": null,
   "metadata": {},
   "outputs": [],
   "source": []
  },
  {
   "cell_type": "markdown",
   "metadata": {},
   "source": [
    "### Evolución diaria de la generación solar y térmica total"
   ]
  },
  {
   "cell_type": "code",
   "execution_count": 49,
   "metadata": {},
   "outputs": [
    {
     "data": {
      "image/png": "[encoded data removed]",
      "text/plain": [
       "<Figure size 432x288 with 2 Axes>"
      ]
     },
     "metadata": {
      "needs_background": "light"
     },
     "output_type": "display_data"
    }
   ],
   "source": [
    "fig, axs = plt.subplots(1,2)\n",
    "fechas = [f\"2019-01-{i}\" for i in range(10, 15)]\n",
    "\n",
    "\n",
    "evolucion_diaria(ds, \"SE005T002\", \"gen_solar_total_mwh\", fechas, ax=axs[0])\n",
    "evolucion_diaria(ds, \"SE127T005\", \"gen_solar_total_mwh\", fechas, ax=axs[1])\n",
    "\n",
    "plt.legend(loc = 'lower right')\n",
    "plt.tight_layout()"
   ]
  },
  {
   "cell_type": "markdown",
   "metadata": {},
   "source": [
    "La generación solar dependende fuertemente de la subestación. Podemos ver que la subestación SE005T002 tiene una generación térmica ordénes de magnitude más grande que la SE127T005. Esto puede ser debido a las diferencias en infrastructura y locación geográfica de las subestaciones.\n",
    "\n",
    "La subestación SE005T002 tiene un perfil de generación solar diaria similar para los 5 días gráficados. Por su lado, la subestación SE127T005 posee mayor variablidad entre los días graficados.\n",
    "\n",
    "Ambos gráficos muestran un ciclo diario de generación solar. No hay generación durante la noche. Luego, entre la mañana y la tarde la generación solar va en aumento, hasta llegar a su peak cercano a las 3 de la tarde. Luego, comienza el descenso hasta zero. Esto puede ser debido al ciclo solar en el día. "
   ]
  },
  {
   "cell_type": "code",
   "execution_count": 54,
   "metadata": {},
   "outputs": [
    {
     "data": {
      "image/png": "[encoded data removed]",
      "text/plain": [
       "<Figure size 432x288 with 2 Axes>"
      ]
     },
     "metadata": {
      "needs_background": "light"
     },
     "output_type": "display_data"
    }
   ],
   "source": [
    "fig, axs = plt.subplots(1,2)\n",
    "fechas = [f\"2019-05-{i}\" for i in range(14, 18)]\n",
    "\n",
    "\n",
    "evolucion_diaria(ds, \"SE020G213\", \"gen_termica_total_mwh\", fechas, ax=axs[0])\n",
    "evolucion_diaria(ds,\"SE106G216\", \"gen_termica_total_mwh\", fechas, ax=axs[1])\n",
    "\n",
    "plt.tight_layout()"
   ]
  },
  {
   "cell_type": "markdown",
   "metadata": {},
   "source": [
    "La generación térmica dependende fuertemente de la subestación. Podemos ver que la subestación SE020G213 tiene una generación térmica ordénes de magnitude más grande que la SE106G216.\n",
    "\n",
    "Dependiendo del día, la generación térmica de las subestaciones puede variar considerablemente. Por ejemplo la subestación SE020G213 tiene un descenso inusual de la generación de energía a la hora 10 del día 16 de mayo. Mismo caso para la subestación  SE106G216 el día 15 de mayo a las 20 horas. Una explicación podría ser que las diminuciones inusuales pueden ser producto de eventos puntuales en las subestaciones. "
   ]
  },
  {
   "cell_type": "markdown",
   "metadata": {},
   "source": [
    "## Partes 5, 6, y 7: Modelos de predicción\n",
    "\n",
    "### Strategía\n",
    "\n",
    "#### Modelación de las series de tiempo\n",
    "+ Cada barra corresponde a una serie de tiempo. Sin embargo, podemos consideraras como una sola serie de tiempo, y considerar el nombre de la barra como una variable más. Si hacemos esto, multiplicamos la cantidad de datos que tenemos para entrenar un modelo de clasificación.\n",
    "+ Las series de tiempo son indexadas por la hora en el año que se produce. La primera hora del año parte a la hora 1 del primer día que se tiene registros, y así continua hasta la última hora del último día del que se tiene registro.\n",
    "\n",
    "#### Feature engineering:\n",
    "+ Ordinal Encoder para el nombre de la barra: se enumeran los nombres de las barras de 0 en adelante\n",
    "+ lags: lags de 1 a 5 horas de diferecía\n",
    "+ stats moviles: \n",
    "    + calculo del promedio móvil simple\n",
    "    + el promedio móvil acumulado\n",
    "    + promedio exponencial ponderado\n",
    "    + varianza móvil simple\n",
    "    + varianza móvil acumulada\n",
    "    + la varianza exponencial ponderada. \n",
    "+ Estos promedios son realizados con los mismos lags de arriba\n",
    "\n",
    "#### Target\n",
    "+ target: cmg_cat de 1 (modelo 1), y 12 (modelos 2 y 3) días en el futuro. \n",
    "\n",
    "#### Feature selection\n",
    "+ Feature selection: Se suprimen todas las variables por las que el 100 % de los valores son nulos\n",
    "\n",
    "### Validación\n",
    "\n",
    "+ Basados en la columna 'hora_ano' podemos dividir temporalmente los conjuntos de entrenamiento, validación, y test. Así nos aseguramos de no sufrir 'data leakage'. \n",
    "+ el último 10 % (temoralmente) de los datos son utilizados como conjunto de test. El 90 % restante es utilizado para crear 5 folders donde los conjunto de entrenamiento y validación se dividen temporalmente. El conjunto de entrenamiento va desde la primera hora del primer día hasta un hora arbitrarea de un día arbitrareo, luego el conjunto de validación le sigue de en tiempo.\n",
    "\n",
    "+ La performance del modelo es medida en términos de:\n",
    "    + área roc: dado que hay un desbalance de clases (hay muchos menos desvíos superiores que inferiores al 15 %)\n",
    "    + f1: dado que no comprendo todavía cúal clase es más importante, el f1 me da una idea del promedio entre la precisión y el recall.\n",
    "    \n",
    "### Modelo: XGBOOST\n",
    "+ XGBOOST es un modelo no linear ensemble, que permite boostear las predicciones de los árboles de decisión. Famoso por ganar competencias kaggle.\n",
    "+ XGBOOST es capaz de trabajar con valores nulos. Dada la naturaleza de nuestros datos. Esto simplifica el workflow\n",
    "+ XGBOOST permite calcular la importancia de las variables e incluso realizar una selección de variables.\n",
    "+ Los paramétros de max_depth, n_estimators, y reg_alpha permiten evitar el overfitting\n",
    "+ No es necesario realizar normalización de las variables. Esto simplifica el workflow\n",
    "\n",
    "### Optimización de hiper-parámetros\n",
    "+ GridSearchCV: Se realiza una búsqueda por grilla los parámetros mencionados arriba para evitar over fitting. Esto se realiza en cojunto a la validación.\n",
    "    "
   ]
  },
  {
   "cell_type": "markdown",
   "metadata": {},
   "source": [
    "## Parte 5 - Modelo 1 - predecir la hora siguiente"
   ]
  },
  {
   "cell_type": "code",
   "execution_count": 39,
   "metadata": {
    "scrolled": false
   },
   "outputs": [
    {
     "name": "stdout",
     "output_type": "stream",
     "text": [
      "Creating features from ['cmg_desv', 'demanda_mwh', 'cap_inst_mw', 'en_total_mwh'].\n",
      "Using ['lag', 'sma', 'cma', 'ewm', 'smvar', 'cmvar', 'ewvar']\n"
     ]
    },
    {
     "data": {
      "application/vnd.jupyter.widget-view+json": {
       "model_id": "728c4d2b86c342b1ad1478a1215b626a",
       "version_major": 2,
       "version_minor": 0
      },
      "text/plain": [
       "HBox(children=(FloatProgress(value=0.0, max=7.0), HTML(value='')))"
      ]
     },
     "metadata": {},
     "output_type": "display_data"
    },
    {
     "name": "stdout",
     "output_type": "stream",
     "text": [
      "\n",
      "Hay 159 columnas.\n",
      "Hay 112 columnas con valores nulos\n",
      "Dropping 8 features because the 100 % of the column is NaN\n",
      "Creating 5 validation folders\n"
     ]
    },
    {
     "data": {
      "application/vnd.jupyter.widget-view+json": {
       "model_id": "50a1542f3af548b0bfb01242728228c0",
       "version_major": 2,
       "version_minor": 0
      },
      "text/plain": [
       "HBox(children=(FloatProgress(value=0.0, max=5.0), HTML(value='')))"
      ]
     },
     "metadata": {},
     "output_type": "display_data"
    },
    {
     "name": "stdout",
     "output_type": "stream",
     "text": [
      "\n",
      "--------- Main results trainset: --------- \n",
      "f1 train: 1.0\n",
      "roc auc train: 1.0\n"
     ]
    },
    {
     "data": {
      "image/png": "[encoded data removed]",
      "text/plain": [
       "<Figure size 432x288 with 1 Axes>"
      ]
     },
     "metadata": {
      "needs_background": "light"
     },
     "output_type": "display_data"
    },
    {
     "data": {
      "image/png": "[encoded data removed]",
      "text/plain": [
       "<Figure size 432x288 with 2 Axes>"
      ]
     },
     "metadata": {
      "needs_background": "light"
     },
     "output_type": "display_data"
    },
    {
     "name": "stdout",
     "output_type": "stream",
     "text": [
      "--------- Main results testset: --------- \n",
      "f1 test: 0.235\n",
      "roc auc test: 0.851\n"
     ]
    },
    {
     "data": {
      "image/png": "[encoded data removed]",
      "text/plain": [
       "<Figure size 432x288 with 1 Axes>"
      ]
     },
     "metadata": {
      "needs_background": "light"
     },
     "output_type": "display_data"
    },
    {
     "data": {
      "image/png": "[encoded data removed]",
      "text/plain": [
       "<Figure size 432x288 with 2 Axes>"
      ]
     },
     "metadata": {
      "needs_background": "light"
     },
     "output_type": "display_data"
    },
    {
     "name": "stdout",
     "output_type": "stream",
     "text": [
      "best parameters: {'classifier__max_depth': 100, 'classifier__n_estimators': 100, 'classifier__random_state': 123}\n"
     ]
    },
    {
     "data": {
      "image/png": "[encoded data removed]",
      "text/plain": [
       "<Figure size 720x720 with 1 Axes>"
      ]
     },
     "metadata": {
      "needs_background": "light"
     },
     "output_type": "display_data"
    },
    {
     "data": {
      "text/html": [
       "<div>\n",
       "<style scoped>\n",
       "    .dataframe tbody tr th:only-of-type {\n",
       "        vertical-align: middle;\n",
       "    }\n",
       "\n",
       "    .dataframe tbody tr th {\n",
       "        vertical-align: top;\n",
       "    }\n",
       "\n",
       "    .dataframe thead th {\n",
       "        text-align: right;\n",
       "    }\n",
       "</style>\n",
       "<table border=\"1\" class=\"dataframe\">\n",
       "  <thead>\n",
       "    <tr style=\"text-align: right;\">\n",
       "      <th></th>\n",
       "      <th>importance</th>\n",
       "    </tr>\n",
       "  </thead>\n",
       "  <tbody>\n",
       "    <tr>\n",
       "      <th>cmg_cat</th>\n",
       "      <td>0.938990</td>\n",
       "    </tr>\n",
       "    <tr>\n",
       "      <th>cmg_desv_cmvar_5</th>\n",
       "      <td>0.004961</td>\n",
       "    </tr>\n",
       "    <tr>\n",
       "      <th>cmg_desv_cma_4</th>\n",
       "      <td>0.003121</td>\n",
       "    </tr>\n",
       "    <tr>\n",
       "      <th>hora</th>\n",
       "      <td>0.001762</td>\n",
       "    </tr>\n",
       "    <tr>\n",
       "      <th>cmg_desv</th>\n",
       "      <td>0.001584</td>\n",
       "    </tr>\n",
       "    <tr>\n",
       "      <th>dia_calendario</th>\n",
       "      <td>0.001525</td>\n",
       "    </tr>\n",
       "    <tr>\n",
       "      <th>semana_ano</th>\n",
       "      <td>0.001508</td>\n",
       "    </tr>\n",
       "    <tr>\n",
       "      <th>cmg_desv_cma_3</th>\n",
       "      <td>0.001427</td>\n",
       "    </tr>\n",
       "    <tr>\n",
       "      <th>cmg_desv_cmvar_4</th>\n",
       "      <td>0.001407</td>\n",
       "    </tr>\n",
       "    <tr>\n",
       "      <th>mes</th>\n",
       "      <td>0.001299</td>\n",
       "    </tr>\n",
       "  </tbody>\n",
       "</table>\n",
       "</div>"
      ],
      "text/plain": [
       "                  importance\n",
       "cmg_cat             0.938990\n",
       "cmg_desv_cmvar_5    0.004961\n",
       "cmg_desv_cma_4      0.003121\n",
       "hora                0.001762\n",
       "cmg_desv            0.001584\n",
       "dia_calendario      0.001525\n",
       "semana_ano          0.001508\n",
       "cmg_desv_cma_3      0.001427\n",
       "cmg_desv_cmvar_4    0.001407\n",
       "mes                 0.001299"
      ]
     },
     "metadata": {},
     "output_type": "display_data"
    },
    {
     "name": "stdout",
     "output_type": "stream",
     "text": [
      "Hay 43 variables que no influyen\n",
      "Wall time: 28min 52s\n"
     ]
    }
   ],
   "source": [
    "%%time\n",
    "\n",
    "lag = -1\n",
    "\n",
    "res_xgb_1 = run_xgb(ds, lag=lag, save_model_as=\"modelo_1.pkl\")"
   ]
  },
  {
   "cell_type": "markdown",
   "metadata": {},
   "source": [
    "El modelo sufre de overfiting. ÉL funciona perfecto en el conjunto de entrenamiento, pero pierde performance en el conjunto de test.\n",
    "\n",
    "La variable más importnate es si hubo o no una desviación superior al 15 % la hora antes. "
   ]
  },
  {
   "cell_type": "markdown",
   "metadata": {},
   "source": [
    "## Parte 6 - Modelo 2 : predecir 12 horas siguientes"
   ]
  },
  {
   "cell_type": "code",
   "execution_count": 41,
   "metadata": {
    "scrolled": false
   },
   "outputs": [
    {
     "name": "stdout",
     "output_type": "stream",
     "text": [
      "Creating features from ['cmg_desv', 'demanda_mwh', 'cap_inst_mw', 'en_total_mwh'].\n",
      "Using ['lag', 'sma', 'cma', 'ewm', 'smvar', 'cmvar', 'ewvar']\n"
     ]
    },
    {
     "data": {
      "application/vnd.jupyter.widget-view+json": {
       "model_id": "ea8f43bfebca44b78c4c69477b9da39e",
       "version_major": 2,
       "version_minor": 0
      },
      "text/plain": [
       "HBox(children=(FloatProgress(value=0.0, max=7.0), HTML(value='')))"
      ]
     },
     "metadata": {},
     "output_type": "display_data"
    },
    {
     "name": "stdout",
     "output_type": "stream",
     "text": [
      "\n",
      "Hay 159 columnas.\n",
      "Hay 112 columnas con valores nulos\n",
      "Dropping 8 features because the 100 % of the column is NaN\n",
      "Creating 5 validation folders\n"
     ]
    },
    {
     "data": {
      "application/vnd.jupyter.widget-view+json": {
       "model_id": "42070f74f5be49e085e3f85b7c0b1115",
       "version_major": 2,
       "version_minor": 0
      },
      "text/plain": [
       "HBox(children=(FloatProgress(value=0.0, max=5.0), HTML(value='')))"
      ]
     },
     "metadata": {},
     "output_type": "display_data"
    },
    {
     "name": "stdout",
     "output_type": "stream",
     "text": [
      "\n",
      "--------- Main results trainset: --------- \n",
      "f1 train: 0.997\n",
      "roc auc train: 1.0\n"
     ]
    },
    {
     "data": {
      "image/png": "[encoded data removed]",
      "text/plain": [
       "<Figure size 432x288 with 1 Axes>"
      ]
     },
     "metadata": {
      "needs_background": "light"
     },
     "output_type": "display_data"
    },
    {
     "data": {
      "image/png": "[encoded data removed]",
      "text/plain": [
       "<Figure size 432x288 with 2 Axes>"
      ]
     },
     "metadata": {
      "needs_background": "light"
     },
     "output_type": "display_data"
    },
    {
     "name": "stdout",
     "output_type": "stream",
     "text": [
      "--------- Main results testset: --------- \n",
      "f1 test: 0.002\n",
      "roc auc test: 0.582\n"
     ]
    },
    {
     "data": {
      "image/png": "[encoded data removed]",
      "text/plain": [
       "<Figure size 432x288 with 1 Axes>"
      ]
     },
     "metadata": {
      "needs_background": "light"
     },
     "output_type": "display_data"
    },
    {
     "data": {
      "image/png": "[encoded data removed]",
      "text/plain": [
       "<Figure size 432x288 with 2 Axes>"
      ]
     },
     "metadata": {
      "needs_background": "light"
     },
     "output_type": "display_data"
    },
    {
     "name": "stdout",
     "output_type": "stream",
     "text": [
      "best parameters: {'classifier__max_depth': 10, 'classifier__n_estimators': 100, 'classifier__random_state': 123}\n"
     ]
    },
    {
     "data": {
      "image/png": "[encoded data removed]",
      "text/plain": [
       "<Figure size 720x720 with 1 Axes>"
      ]
     },
     "metadata": {
      "needs_background": "light"
     },
     "output_type": "display_data"
    },
    {
     "data": {
      "text/html": [
       "<div>\n",
       "<style scoped>\n",
       "    .dataframe tbody tr th:only-of-type {\n",
       "        vertical-align: middle;\n",
       "    }\n",
       "\n",
       "    .dataframe tbody tr th {\n",
       "        vertical-align: top;\n",
       "    }\n",
       "\n",
       "    .dataframe thead th {\n",
       "        text-align: right;\n",
       "    }\n",
       "</style>\n",
       "<table border=\"1\" class=\"dataframe\">\n",
       "  <thead>\n",
       "    <tr style=\"text-align: right;\">\n",
       "      <th></th>\n",
       "      <th>importance</th>\n",
       "    </tr>\n",
       "  </thead>\n",
       "  <tbody>\n",
       "    <tr>\n",
       "      <th>cap_inst_mw_lag_1</th>\n",
       "      <td>0.122995</td>\n",
       "    </tr>\n",
       "    <tr>\n",
       "      <th>cmg_desv_cma_3</th>\n",
       "      <td>0.082461</td>\n",
       "    </tr>\n",
       "    <tr>\n",
       "      <th>cmg_desv_ewvar_5</th>\n",
       "      <td>0.034754</td>\n",
       "    </tr>\n",
       "    <tr>\n",
       "      <th>hora_ano</th>\n",
       "      <td>0.027438</td>\n",
       "    </tr>\n",
       "    <tr>\n",
       "      <th>demanda_mwh_cma_2</th>\n",
       "      <td>0.023476</td>\n",
       "    </tr>\n",
       "    <tr>\n",
       "      <th>dia_calendario</th>\n",
       "      <td>0.021670</td>\n",
       "    </tr>\n",
       "    <tr>\n",
       "      <th>semana_ano</th>\n",
       "      <td>0.020251</td>\n",
       "    </tr>\n",
       "    <tr>\n",
       "      <th>dia_semana</th>\n",
       "      <td>0.018967</td>\n",
       "    </tr>\n",
       "    <tr>\n",
       "      <th>cmg_desv_cmvar_5</th>\n",
       "      <td>0.018026</td>\n",
       "    </tr>\n",
       "    <tr>\n",
       "      <th>hora</th>\n",
       "      <td>0.017562</td>\n",
       "    </tr>\n",
       "  </tbody>\n",
       "</table>\n",
       "</div>"
      ],
      "text/plain": [
       "                   importance\n",
       "cap_inst_mw_lag_1    0.122995\n",
       "cmg_desv_cma_3       0.082461\n",
       "cmg_desv_ewvar_5     0.034754\n",
       "hora_ano             0.027438\n",
       "demanda_mwh_cma_2    0.023476\n",
       "dia_calendario       0.021670\n",
       "semana_ano           0.020251\n",
       "dia_semana           0.018967\n",
       "cmg_desv_cmvar_5     0.018026\n",
       "hora                 0.017562"
      ]
     },
     "metadata": {},
     "output_type": "display_data"
    },
    {
     "name": "stdout",
     "output_type": "stream",
     "text": [
      "Hay 38 variables que no influyen\n",
      "Wall time: 26min 51s\n"
     ]
    }
   ],
   "source": [
    "%%time\n",
    "\n",
    "lag = -12\n",
    "\n",
    "res_xgb_2 = run_xgb(ds, lag=lag, save_model_as=\"modelo_2.pkl\")"
   ]
  },
  {
   "cell_type": "markdown",
   "metadata": {},
   "source": [
    "Nuevamente el modelo funciona mucho mejor en el conjunto de entrenamiento que en el de test. Sin embargo, en este el modelo funciona mucho peor en el conjunto de test y presenta solo una leve mejora con respecto a predecir aleatoriamente.\n",
    "\n",
    "En este caso, el desbalance de clase hace tender al modelo a elegir la clase 0 (predecir que no habrá desviación). \n",
    "\n",
    "La variable de mayor importancia en este caso fue la capacidad de generación máxima instalada por subestación de la hora anterior."
   ]
  },
  {
   "cell_type": "markdown",
   "metadata": {},
   "source": [
    "## Parte 7 - Modelo 3 : predecir 12 horas siguientes con datos del clima"
   ]
  },
  {
   "cell_type": "code",
   "execution_count": 42,
   "metadata": {
    "scrolled": false
   },
   "outputs": [
    {
     "name": "stdout",
     "output_type": "stream",
     "text": [
      "Creating features from ['cmg_desv', 'demanda_mwh', 'cap_inst_mw', 'en_total_mwh'].\n",
      "Using ['lag', 'sma', 'cma', 'ewm', 'smvar', 'cmvar', 'ewvar']\n"
     ]
    },
    {
     "data": {
      "application/vnd.jupyter.widget-view+json": {
       "model_id": "6857f2a48acb43b3a3646c78a8349e5e",
       "version_major": 2,
       "version_minor": 0
      },
      "text/plain": [
       "HBox(children=(FloatProgress(value=0.0, max=7.0), HTML(value='')))"
      ]
     },
     "metadata": {},
     "output_type": "display_data"
    },
    {
     "name": "stdout",
     "output_type": "stream",
     "text": [
      "\n",
      "Hay 177 columnas.\n",
      "Hay 112 columnas con valores nulos\n",
      "Dropping 8 features because the 100 % of the column is NaN\n",
      "Creating 5 validation folders\n"
     ]
    },
    {
     "data": {
      "application/vnd.jupyter.widget-view+json": {
       "model_id": "f4d68e38f83c4a019f4c176aebaea810",
       "version_major": 2,
       "version_minor": 0
      },
      "text/plain": [
       "HBox(children=(FloatProgress(value=0.0, max=5.0), HTML(value='')))"
      ]
     },
     "metadata": {},
     "output_type": "display_data"
    },
    {
     "name": "stdout",
     "output_type": "stream",
     "text": [
      "\n",
      "--------- Main results trainset: --------- \n",
      "f1 train: 0.998\n",
      "roc auc train: 1.0\n"
     ]
    },
    {
     "data": {
      "image/png": "[encoded data removed]",
      "text/plain": [
       "<Figure size 432x288 with 1 Axes>"
      ]
     },
     "metadata": {
      "needs_background": "light"
     },
     "output_type": "display_data"
    },
    {
     "data": {
      "image/png": "[encoded data removed]",
      "text/plain": [
       "<Figure size 432x288 with 2 Axes>"
      ]
     },
     "metadata": {
      "needs_background": "light"
     },
     "output_type": "display_data"
    },
    {
     "name": "stdout",
     "output_type": "stream",
     "text": [
      "--------- Main results testset: --------- \n",
      "f1 test: 0.002\n",
      "roc auc test: 0.609\n"
     ]
    },
    {
     "data": {
      "image/png": "[encoded data removed]",
      "text/plain": [
       "<Figure size 432x288 with 1 Axes>"
      ]
     },
     "metadata": {
      "needs_background": "light"
     },
     "output_type": "display_data"
    },
    {
     "data": {
      "image/png": "[encoded data removed]",
      "text/plain": [
       "<Figure size 432x288 with 2 Axes>"
      ]
     },
     "metadata": {
      "needs_background": "light"
     },
     "output_type": "display_data"
    },
    {
     "name": "stdout",
     "output_type": "stream",
     "text": [
      "best parameters: {'classifier__max_depth': 10, 'classifier__n_estimators': 100, 'classifier__random_state': 123}\n"
     ]
    },
    {
     "data": {
      "image/png": "[encoded data removed]",
      "text/plain": [
       "<Figure size 720x720 with 1 Axes>"
      ]
     },
     "metadata": {
      "needs_background": "light"
     },
     "output_type": "display_data"
    },
    {
     "data": {
      "text/html": [
       "<div>\n",
       "<style scoped>\n",
       "    .dataframe tbody tr th:only-of-type {\n",
       "        vertical-align: middle;\n",
       "    }\n",
       "\n",
       "    .dataframe tbody tr th {\n",
       "        vertical-align: top;\n",
       "    }\n",
       "\n",
       "    .dataframe thead th {\n",
       "        text-align: right;\n",
       "    }\n",
       "</style>\n",
       "<table border=\"1\" class=\"dataframe\">\n",
       "  <thead>\n",
       "    <tr style=\"text-align: right;\">\n",
       "      <th></th>\n",
       "      <th>importance</th>\n",
       "    </tr>\n",
       "  </thead>\n",
       "  <tbody>\n",
       "    <tr>\n",
       "      <th>demanda_mwh_cma_5</th>\n",
       "      <td>0.044469</td>\n",
       "    </tr>\n",
       "    <tr>\n",
       "      <th>cmg_desv_cma_3</th>\n",
       "      <td>0.041765</td>\n",
       "    </tr>\n",
       "    <tr>\n",
       "      <th>demanda_mwh_cma_2</th>\n",
       "      <td>0.039771</td>\n",
       "    </tr>\n",
       "    <tr>\n",
       "      <th>cmg_desv_ewvar_5</th>\n",
       "      <td>0.035902</td>\n",
       "    </tr>\n",
       "    <tr>\n",
       "      <th>hora_ano</th>\n",
       "      <td>0.026722</td>\n",
       "    </tr>\n",
       "    <tr>\n",
       "      <th>dia_semana</th>\n",
       "      <td>0.024091</td>\n",
       "    </tr>\n",
       "    <tr>\n",
       "      <th>semana_ano</th>\n",
       "      <td>0.023856</td>\n",
       "    </tr>\n",
       "    <tr>\n",
       "      <th>dia_calendario</th>\n",
       "      <td>0.023356</td>\n",
       "    </tr>\n",
       "    <tr>\n",
       "      <th>cmg_desv_cmvar_5</th>\n",
       "      <td>0.020107</td>\n",
       "    </tr>\n",
       "    <tr>\n",
       "      <th>lat</th>\n",
       "      <td>0.018968</td>\n",
       "    </tr>\n",
       "  </tbody>\n",
       "</table>\n",
       "</div>"
      ],
      "text/plain": [
       "                   importance\n",
       "demanda_mwh_cma_5    0.044469\n",
       "cmg_desv_cma_3       0.041765\n",
       "demanda_mwh_cma_2    0.039771\n",
       "cmg_desv_ewvar_5     0.035902\n",
       "hora_ano             0.026722\n",
       "dia_semana           0.024091\n",
       "semana_ano           0.023856\n",
       "dia_calendario       0.023356\n",
       "cmg_desv_cmvar_5     0.020107\n",
       "lat                  0.018968"
      ]
     },
     "metadata": {},
     "output_type": "display_data"
    },
    {
     "name": "stdout",
     "output_type": "stream",
     "text": [
      "Hay 39 variables que no influyen\n",
      "Wall time: 27min 55s\n"
     ]
    }
   ],
   "source": [
    "%%time\n",
    "\n",
    "lag = -12\n",
    "\n",
    "clima_df = pd.read_csv(\"datos_clima.csv\")\n",
    "clima_df[\"fecha\"] = pd.to_datetime(clima_df[\"fecha\"]).dt.date\n",
    "new_df = pd.merge(ds, clima_df, how='left', left_on=['fecha','nemotecnico_se'], right_on=['fecha','subestacion'])\n",
    "new_df = new_df.drop(\"subestacion\", axis=1)\n",
    "\n",
    "res_xgb_3 = run_xgb(new_df, lag=lag, save_model_as=\"modelo_3.pkl\")"
   ]
  },
  {
   "cell_type": "markdown",
   "metadata": {},
   "source": [
    "Al igual que los otros modelos, el modelo presenta overfitting. Sin embargo, la adicción de datos climáticos ha mejorado la performance. \n",
    "\n",
    "La variable más importante en este caso fue el promedio móvil acumulado de los últimos 5 días de los retiros de energía efectuados por compañías coordinadas bajo el sistema eléctrico"
   ]
  },
  {
   "cell_type": "markdown",
   "metadata": {},
   "source": [
    "## Parte 8 - Reflexión\n",
    "\n",
    "+ Poder anticiparse a la desviación entre el costo marginal programado y el real permite evaluar el método con el que se calculan los costos marginales programados. Además, permite tomar medidas con anticipación en caso de una desviación considerable (en ente caso de un 15 % o más).\n",
    "\n",
    "+ El modelo permite además ver la influencia de las variables utilizadas. Así las personas encargadas de minimizar los costos marginales pueden enfocarse en las variables más relevantes. ´Pueden enfocar los esfuerzos en minimizar los efectos de dichas variables y así minimizar la probabilidad de una desviación.\n"
   ]
  }
 ],
 "metadata": {
  "kernelspec": {
   "display_name": "Python 3",
   "language": "python",
   "name": "python3"
  },
  "language_info": {
   "codemirror_mode": {
    "name": "ipython",
    "version": 3
   },
   "file_extension": ".py",
   "mimetype": "text/x-python",
   "name": "python",
   "nbconvert_exporter": "python",
   "pygments_lexer": "ipython3",
   "version": "3.6.10"
  }
 },
 "nbformat": 4,
 "nbformat_minor": 4
}
